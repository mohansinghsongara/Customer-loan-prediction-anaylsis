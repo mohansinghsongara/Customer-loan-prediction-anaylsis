{
 "cells": [
  {
   "cell_type": "markdown",
   "id": "3a4066e9",
   "metadata": {},
   "source": [
    "# CUSTOMER LOAN PREDICTION USING MACHINE LEARNING ALGORITHM\n",
    "\n",
    "Here we are try to find out Machine learning model to predict whether assigning the loan to particular person will be safe or not.We are using the previous records of the people to whom the loan was granted before and on the basis of these records/experiences the machine was trained using the machine learning model (Logistic Regression model) which give the most accurate result. "
   ]
  },
  {
   "cell_type": "code",
   "execution_count": 1,
   "id": "e678787d",
   "metadata": {},
   "outputs": [],
   "source": [
    "# importing libraries\n",
    "import pandas as pd\n",
    "import numpy as np\n",
    "import matplotlib.pyplot as plt \n",
    "import seaborn as sns\n",
    "import statsmodels.api as sm\n",
    "%matplotlib inline"
   ]
  },
  {
   "cell_type": "code",
   "execution_count": 2,
   "id": "4417ae34",
   "metadata": {},
   "outputs": [],
   "source": [
    "import warnings\n",
    "warnings.filterwarnings('ignore')"
   ]
  },
  {
   "cell_type": "code",
   "execution_count": 3,
   "id": "4c9fed07",
   "metadata": {},
   "outputs": [
    {
     "data": {
      "text/html": [
       "<div>\n",
       "<style scoped>\n",
       "    .dataframe tbody tr th:only-of-type {\n",
       "        vertical-align: middle;\n",
       "    }\n",
       "\n",
       "    .dataframe tbody tr th {\n",
       "        vertical-align: top;\n",
       "    }\n",
       "\n",
       "    .dataframe thead th {\n",
       "        text-align: right;\n",
       "    }\n",
       "</style>\n",
       "<table border=\"1\" class=\"dataframe\">\n",
       "  <thead>\n",
       "    <tr style=\"text-align: right;\">\n",
       "      <th></th>\n",
       "      <th>Loan_ID</th>\n",
       "      <th>Gender</th>\n",
       "      <th>Married</th>\n",
       "      <th>Dependents</th>\n",
       "      <th>Education</th>\n",
       "      <th>Self_Employed</th>\n",
       "      <th>ApplicantIncome</th>\n",
       "      <th>CoapplicantIncome</th>\n",
       "      <th>LoanAmount</th>\n",
       "      <th>Loan_Amount_Term</th>\n",
       "      <th>Credit_History</th>\n",
       "      <th>Property_Area</th>\n",
       "      <th>Loan_Status</th>\n",
       "    </tr>\n",
       "  </thead>\n",
       "  <tbody>\n",
       "    <tr>\n",
       "      <th>0</th>\n",
       "      <td>LP001002</td>\n",
       "      <td>Male</td>\n",
       "      <td>No</td>\n",
       "      <td>0</td>\n",
       "      <td>Graduate</td>\n",
       "      <td>No</td>\n",
       "      <td>5849</td>\n",
       "      <td>0.0</td>\n",
       "      <td>NaN</td>\n",
       "      <td>360.0</td>\n",
       "      <td>1.0</td>\n",
       "      <td>Urban</td>\n",
       "      <td>Y</td>\n",
       "    </tr>\n",
       "    <tr>\n",
       "      <th>1</th>\n",
       "      <td>LP001003</td>\n",
       "      <td>Male</td>\n",
       "      <td>Yes</td>\n",
       "      <td>1</td>\n",
       "      <td>Graduate</td>\n",
       "      <td>No</td>\n",
       "      <td>4583</td>\n",
       "      <td>1508.0</td>\n",
       "      <td>128.0</td>\n",
       "      <td>360.0</td>\n",
       "      <td>1.0</td>\n",
       "      <td>Rural</td>\n",
       "      <td>N</td>\n",
       "    </tr>\n",
       "    <tr>\n",
       "      <th>2</th>\n",
       "      <td>LP001005</td>\n",
       "      <td>Male</td>\n",
       "      <td>Yes</td>\n",
       "      <td>0</td>\n",
       "      <td>Graduate</td>\n",
       "      <td>Yes</td>\n",
       "      <td>3000</td>\n",
       "      <td>0.0</td>\n",
       "      <td>66.0</td>\n",
       "      <td>360.0</td>\n",
       "      <td>1.0</td>\n",
       "      <td>Urban</td>\n",
       "      <td>Y</td>\n",
       "    </tr>\n",
       "    <tr>\n",
       "      <th>3</th>\n",
       "      <td>LP001006</td>\n",
       "      <td>Male</td>\n",
       "      <td>Yes</td>\n",
       "      <td>0</td>\n",
       "      <td>Not Graduate</td>\n",
       "      <td>No</td>\n",
       "      <td>2583</td>\n",
       "      <td>2358.0</td>\n",
       "      <td>120.0</td>\n",
       "      <td>360.0</td>\n",
       "      <td>1.0</td>\n",
       "      <td>Urban</td>\n",
       "      <td>Y</td>\n",
       "    </tr>\n",
       "    <tr>\n",
       "      <th>4</th>\n",
       "      <td>LP001008</td>\n",
       "      <td>Male</td>\n",
       "      <td>No</td>\n",
       "      <td>0</td>\n",
       "      <td>Graduate</td>\n",
       "      <td>No</td>\n",
       "      <td>6000</td>\n",
       "      <td>0.0</td>\n",
       "      <td>141.0</td>\n",
       "      <td>360.0</td>\n",
       "      <td>1.0</td>\n",
       "      <td>Urban</td>\n",
       "      <td>Y</td>\n",
       "    </tr>\n",
       "  </tbody>\n",
       "</table>\n",
       "</div>"
      ],
      "text/plain": [
       "    Loan_ID Gender Married Dependents     Education Self_Employed  \\\n",
       "0  LP001002   Male      No          0      Graduate            No   \n",
       "1  LP001003   Male     Yes          1      Graduate            No   \n",
       "2  LP001005   Male     Yes          0      Graduate           Yes   \n",
       "3  LP001006   Male     Yes          0  Not Graduate            No   \n",
       "4  LP001008   Male      No          0      Graduate            No   \n",
       "\n",
       "   ApplicantIncome  CoapplicantIncome  LoanAmount  Loan_Amount_Term  \\\n",
       "0             5849                0.0         NaN             360.0   \n",
       "1             4583             1508.0       128.0             360.0   \n",
       "2             3000                0.0        66.0             360.0   \n",
       "3             2583             2358.0       120.0             360.0   \n",
       "4             6000                0.0       141.0             360.0   \n",
       "\n",
       "   Credit_History Property_Area Loan_Status  \n",
       "0             1.0         Urban           Y  \n",
       "1             1.0         Rural           N  \n",
       "2             1.0         Urban           Y  \n",
       "3             1.0         Urban           Y  \n",
       "4             1.0         Urban           Y  "
      ]
     },
     "execution_count": 3,
     "metadata": {},
     "output_type": "execute_result"
    }
   ],
   "source": [
    "#Importing data\n",
    "df = pd.read_csv('data.csv')\n",
    "df.head()"
   ]
  },
  {
   "cell_type": "code",
   "execution_count": 4,
   "id": "443ab2a7",
   "metadata": {},
   "outputs": [
    {
     "name": "stdout",
     "output_type": "stream",
     "text": [
      "no.of rows and columns: (614, 13)\n"
     ]
    }
   ],
   "source": [
    "print(\"no.of rows and columns:\",df.shape)"
   ]
  },
  {
   "cell_type": "code",
   "execution_count": 5,
   "id": "4afe7cee",
   "metadata": {},
   "outputs": [
    {
     "name": "stdout",
     "output_type": "stream",
     "text": [
      "<class 'pandas.core.frame.DataFrame'>\n",
      "RangeIndex: 614 entries, 0 to 613\n",
      "Data columns (total 13 columns):\n",
      " #   Column             Non-Null Count  Dtype  \n",
      "---  ------             --------------  -----  \n",
      " 0   Loan_ID            614 non-null    object \n",
      " 1   Gender             601 non-null    object \n",
      " 2   Married            611 non-null    object \n",
      " 3   Dependents         599 non-null    object \n",
      " 4   Education          614 non-null    object \n",
      " 5   Self_Employed      582 non-null    object \n",
      " 6   ApplicantIncome    614 non-null    int64  \n",
      " 7   CoapplicantIncome  614 non-null    float64\n",
      " 8   LoanAmount         592 non-null    float64\n",
      " 9   Loan_Amount_Term   600 non-null    float64\n",
      " 10  Credit_History     564 non-null    float64\n",
      " 11  Property_Area      614 non-null    object \n",
      " 12  Loan_Status        614 non-null    object \n",
      "dtypes: float64(4), int64(1), object(8)\n",
      "memory usage: 62.5+ KB\n"
     ]
    }
   ],
   "source": [
    "df.info()"
   ]
  },
  {
   "cell_type": "code",
   "execution_count": 6,
   "id": "e62a3ec6",
   "metadata": {},
   "outputs": [
    {
     "data": {
      "text/html": [
       "<div>\n",
       "<style scoped>\n",
       "    .dataframe tbody tr th:only-of-type {\n",
       "        vertical-align: middle;\n",
       "    }\n",
       "\n",
       "    .dataframe tbody tr th {\n",
       "        vertical-align: top;\n",
       "    }\n",
       "\n",
       "    .dataframe thead th {\n",
       "        text-align: right;\n",
       "    }\n",
       "</style>\n",
       "<table border=\"1\" class=\"dataframe\">\n",
       "  <thead>\n",
       "    <tr style=\"text-align: right;\">\n",
       "      <th></th>\n",
       "      <th>ApplicantIncome</th>\n",
       "      <th>CoapplicantIncome</th>\n",
       "      <th>LoanAmount</th>\n",
       "      <th>Loan_Amount_Term</th>\n",
       "      <th>Credit_History</th>\n",
       "    </tr>\n",
       "  </thead>\n",
       "  <tbody>\n",
       "    <tr>\n",
       "      <th>count</th>\n",
       "      <td>614.000000</td>\n",
       "      <td>614.000000</td>\n",
       "      <td>592.000000</td>\n",
       "      <td>600.00000</td>\n",
       "      <td>564.000000</td>\n",
       "    </tr>\n",
       "    <tr>\n",
       "      <th>mean</th>\n",
       "      <td>5403.459283</td>\n",
       "      <td>1621.245798</td>\n",
       "      <td>146.412162</td>\n",
       "      <td>342.00000</td>\n",
       "      <td>0.842199</td>\n",
       "    </tr>\n",
       "    <tr>\n",
       "      <th>std</th>\n",
       "      <td>6109.041673</td>\n",
       "      <td>2926.248369</td>\n",
       "      <td>85.587325</td>\n",
       "      <td>65.12041</td>\n",
       "      <td>0.364878</td>\n",
       "    </tr>\n",
       "    <tr>\n",
       "      <th>min</th>\n",
       "      <td>150.000000</td>\n",
       "      <td>0.000000</td>\n",
       "      <td>9.000000</td>\n",
       "      <td>12.00000</td>\n",
       "      <td>0.000000</td>\n",
       "    </tr>\n",
       "    <tr>\n",
       "      <th>25%</th>\n",
       "      <td>2877.500000</td>\n",
       "      <td>0.000000</td>\n",
       "      <td>100.000000</td>\n",
       "      <td>360.00000</td>\n",
       "      <td>1.000000</td>\n",
       "    </tr>\n",
       "    <tr>\n",
       "      <th>50%</th>\n",
       "      <td>3812.500000</td>\n",
       "      <td>1188.500000</td>\n",
       "      <td>128.000000</td>\n",
       "      <td>360.00000</td>\n",
       "      <td>1.000000</td>\n",
       "    </tr>\n",
       "    <tr>\n",
       "      <th>75%</th>\n",
       "      <td>5795.000000</td>\n",
       "      <td>2297.250000</td>\n",
       "      <td>168.000000</td>\n",
       "      <td>360.00000</td>\n",
       "      <td>1.000000</td>\n",
       "    </tr>\n",
       "    <tr>\n",
       "      <th>max</th>\n",
       "      <td>81000.000000</td>\n",
       "      <td>41667.000000</td>\n",
       "      <td>700.000000</td>\n",
       "      <td>480.00000</td>\n",
       "      <td>1.000000</td>\n",
       "    </tr>\n",
       "  </tbody>\n",
       "</table>\n",
       "</div>"
      ],
      "text/plain": [
       "       ApplicantIncome  CoapplicantIncome  LoanAmount  Loan_Amount_Term  \\\n",
       "count       614.000000         614.000000  592.000000         600.00000   \n",
       "mean       5403.459283        1621.245798  146.412162         342.00000   \n",
       "std        6109.041673        2926.248369   85.587325          65.12041   \n",
       "min         150.000000           0.000000    9.000000          12.00000   \n",
       "25%        2877.500000           0.000000  100.000000         360.00000   \n",
       "50%        3812.500000        1188.500000  128.000000         360.00000   \n",
       "75%        5795.000000        2297.250000  168.000000         360.00000   \n",
       "max       81000.000000       41667.000000  700.000000         480.00000   \n",
       "\n",
       "       Credit_History  \n",
       "count      564.000000  \n",
       "mean         0.842199  \n",
       "std          0.364878  \n",
       "min          0.000000  \n",
       "25%          1.000000  \n",
       "50%          1.000000  \n",
       "75%          1.000000  \n",
       "max          1.000000  "
      ]
     },
     "execution_count": 6,
     "metadata": {},
     "output_type": "execute_result"
    }
   ],
   "source": [
    "df.describe()"
   ]
  },
  {
   "cell_type": "code",
   "execution_count": 7,
   "id": "fd21199e",
   "metadata": {},
   "outputs": [
    {
     "data": {
      "text/plain": [
       "Loan_ID               0\n",
       "Gender               13\n",
       "Married               3\n",
       "Dependents           15\n",
       "Education             0\n",
       "Self_Employed        32\n",
       "ApplicantIncome       0\n",
       "CoapplicantIncome     0\n",
       "LoanAmount           22\n",
       "Loan_Amount_Term     14\n",
       "Credit_History       50\n",
       "Property_Area         0\n",
       "Loan_Status           0\n",
       "dtype: int64"
      ]
     },
     "execution_count": 7,
     "metadata": {},
     "output_type": "execute_result"
    }
   ],
   "source": [
    "df.isnull().sum()"
   ]
  },
  {
   "cell_type": "markdown",
   "id": "76c21285",
   "metadata": {},
   "source": [
    "### Analysis of each columns"
   ]
  },
  {
   "cell_type": "code",
   "execution_count": 8,
   "id": "33be9b98",
   "metadata": {},
   "outputs": [
    {
     "data": {
      "text/plain": [
       "Male      489\n",
       "Female    112\n",
       "NaN        13\n",
       "Name: Gender, dtype: int64"
      ]
     },
     "execution_count": 8,
     "metadata": {},
     "output_type": "execute_result"
    }
   ],
   "source": [
    "df['Gender'].value_counts(dropna=False)"
   ]
  },
  {
   "cell_type": "code",
   "execution_count": 9,
   "id": "386c9e4d",
   "metadata": {},
   "outputs": [],
   "source": [
    "# Here we can replace the null values with Male  "
   ]
  },
  {
   "cell_type": "code",
   "execution_count": 10,
   "id": "f79a9781",
   "metadata": {},
   "outputs": [],
   "source": [
    "df['Gender']=df['Gender'].replace(np.nan,'Male')"
   ]
  },
  {
   "cell_type": "code",
   "execution_count": 11,
   "id": "9fdfb1ae",
   "metadata": {},
   "outputs": [
    {
     "data": {
      "text/plain": [
       "<AxesSubplot:xlabel='Gender', ylabel='count'>"
      ]
     },
     "execution_count": 11,
     "metadata": {},
     "output_type": "execute_result"
    },
    {
     "data": {
      "image/png": "[encoded data removed]",
      "text/plain": [
       "<Figure size 432x288 with 1 Axes>"
      ]
     },
     "metadata": {
      "needs_background": "light"
     },
     "output_type": "display_data"
    }
   ],
   "source": [
    "sns.countplot(x=df['Gender'],hue=df['Loan_Status'])"
   ]
  },
  {
   "cell_type": "markdown",
   "id": "835cfb4f",
   "metadata": {},
   "source": [
    "##### From this graph, we can infer that male applicants have a good chance for approval of loan"
   ]
  },
  {
   "cell_type": "code",
   "execution_count": 12,
   "id": "fb87bb0c",
   "metadata": {},
   "outputs": [
    {
     "data": {
      "text/plain": [
       "Yes    398\n",
       "No     213\n",
       "NaN      3\n",
       "Name: Married, dtype: int64"
      ]
     },
     "execution_count": 12,
     "metadata": {},
     "output_type": "execute_result"
    }
   ],
   "source": [
    "df['Married'].value_counts(dropna=False)"
   ]
  },
  {
   "cell_type": "code",
   "execution_count": 13,
   "id": "a840a3d4",
   "metadata": {},
   "outputs": [],
   "source": [
    "# here we replace the null values with Yes\n",
    "df['Married']=df['Married'].replace(np.nan,'Yes')"
   ]
  },
  {
   "cell_type": "code",
   "execution_count": 14,
   "id": "afd5f59e",
   "metadata": {},
   "outputs": [
    {
     "data": {
      "text/plain": [
       "<AxesSubplot:xlabel='Married', ylabel='count'>"
      ]
     },
     "execution_count": 14,
     "metadata": {},
     "output_type": "execute_result"
    },
    {
     "data": {
      "image/png": "[encoded data removed]",
      "text/plain": [
       "<Figure size 432x288 with 1 Axes>"
      ]
     },
     "metadata": {
      "needs_background": "light"
     },
     "output_type": "display_data"
    }
   ],
   "source": [
    "sns.countplot(x=df['Married'],hue=df['Loan_Status'])"
   ]
  },
  {
   "cell_type": "markdown",
   "id": "de6c7f0a",
   "metadata": {},
   "source": [
    "##### As we can see married applicants have more chances for approval of the loan"
   ]
  },
  {
   "cell_type": "code",
   "execution_count": 15,
   "id": "c127465a",
   "metadata": {},
   "outputs": [
    {
     "data": {
      "text/plain": [
       "0      345\n",
       "1      102\n",
       "2      101\n",
       "3+      51\n",
       "NaN     15\n",
       "Name: Dependents, dtype: int64"
      ]
     },
     "execution_count": 15,
     "metadata": {},
     "output_type": "execute_result"
    }
   ],
   "source": [
    "df['Dependents'].value_counts(dropna=False)"
   ]
  },
  {
   "cell_type": "code",
   "execution_count": 16,
   "id": "067d8b4f",
   "metadata": {},
   "outputs": [],
   "source": [
    "df['Dependents']=df['Dependents'].replace(np.nan,'0')\n",
    "df['Dependents']=df['Dependents'].replace('3+' , '3')"
   ]
  },
  {
   "cell_type": "code",
   "execution_count": 17,
   "id": "23dd05f4",
   "metadata": {},
   "outputs": [
    {
     "data": {
      "text/plain": [
       "0    360\n",
       "1    102\n",
       "2    101\n",
       "3     51\n",
       "Name: Dependents, dtype: int64"
      ]
     },
     "execution_count": 17,
     "metadata": {},
     "output_type": "execute_result"
    }
   ],
   "source": [
    "df['Dependents'].value_counts(dropna=False)"
   ]
  },
  {
   "cell_type": "code",
   "execution_count": 18,
   "id": "a7193a46",
   "metadata": {
    "scrolled": false
   },
   "outputs": [
    {
     "data": {
      "text/plain": [
       "<AxesSubplot:xlabel='Dependents', ylabel='count'>"
      ]
     },
     "execution_count": 18,
     "metadata": {},
     "output_type": "execute_result"
    },
    {
     "data": {
      "image/png": "[encoded data removed]",
      "text/plain": [
       "<Figure size 432x288 with 1 Axes>"
      ]
     },
     "metadata": {
      "needs_background": "light"
     },
     "output_type": "display_data"
    }
   ],
   "source": [
    "sns.countplot(x=df['Dependents'],hue=df['Loan_Status'])"
   ]
  },
  {
   "cell_type": "markdown",
   "id": "003afba9",
   "metadata": {},
   "source": [
    "##### We can see that dependents are zero(independent applicants), possibility of getting approval of the loan is more\n"
   ]
  },
  {
   "cell_type": "code",
   "execution_count": 19,
   "id": "8df494c3",
   "metadata": {},
   "outputs": [
    {
     "data": {
      "text/plain": [
       "Graduate        480\n",
       "Not Graduate    134\n",
       "Name: Education, dtype: int64"
      ]
     },
     "execution_count": 19,
     "metadata": {},
     "output_type": "execute_result"
    }
   ],
   "source": [
    "df['Education'].value_counts(dropna=False)"
   ]
  },
  {
   "cell_type": "code",
   "execution_count": 20,
   "id": "c5fee4c0",
   "metadata": {},
   "outputs": [
    {
     "data": {
      "text/plain": [
       "<AxesSubplot:xlabel='Education', ylabel='count'>"
      ]
     },
     "execution_count": 20,
     "metadata": {},
     "output_type": "execute_result"
    },
    {
     "data": {
      "image/png": "[encoded data removed]",
      "text/plain": [
       "<Figure size 432x288 with 1 Axes>"
      ]
     },
     "metadata": {
      "needs_background": "light"
     },
     "output_type": "display_data"
    }
   ],
   "source": [
    "sns.countplot(x=df['Education'],hue=df['Loan_Status'])"
   ]
  },
  {
   "cell_type": "markdown",
   "id": "ca3c78fe",
   "metadata": {},
   "source": [
    "##### The graduates have a higher chance of loan approval"
   ]
  },
  {
   "cell_type": "code",
   "execution_count": 21,
   "id": "9fcb9d75",
   "metadata": {},
   "outputs": [
    {
     "data": {
      "text/plain": [
       "No     500\n",
       "Yes     82\n",
       "NaN     32\n",
       "Name: Self_Employed, dtype: int64"
      ]
     },
     "execution_count": 21,
     "metadata": {},
     "output_type": "execute_result"
    }
   ],
   "source": [
    "df['Self_Employed'].value_counts(dropna=False)"
   ]
  },
  {
   "cell_type": "code",
   "execution_count": 22,
   "id": "a4061060",
   "metadata": {},
   "outputs": [],
   "source": [
    "# here we can use backward fill for replacing null values\n",
    "df['Self_Employed']=df['Self_Employed'].bfill()"
   ]
  },
  {
   "cell_type": "code",
   "execution_count": 23,
   "id": "4e4815b1",
   "metadata": {},
   "outputs": [
    {
     "data": {
      "text/plain": [
       "No     528\n",
       "Yes     86\n",
       "Name: Self_Employed, dtype: int64"
      ]
     },
     "execution_count": 23,
     "metadata": {},
     "output_type": "execute_result"
    }
   ],
   "source": [
    "df['Self_Employed'].value_counts(dropna=False)"
   ]
  },
  {
   "cell_type": "code",
   "execution_count": 24,
   "id": "0b88d0e9",
   "metadata": {},
   "outputs": [
    {
     "data": {
      "text/plain": [
       "<AxesSubplot:xlabel='Self_Employed', ylabel='count'>"
      ]
     },
     "execution_count": 24,
     "metadata": {},
     "output_type": "execute_result"
    },
    {
     "data": {
      "image/png": "[encoded data removed]",
      "text/plain": [
       "<Figure size 432x288 with 1 Axes>"
      ]
     },
     "metadata": {
      "needs_background": "light"
     },
     "output_type": "display_data"
    }
   ],
   "source": [
    "sns.countplot(x=df['Self_Employed'],hue=df['Loan_Status'])"
   ]
  },
  {
   "cell_type": "markdown",
   "id": "24ca700b",
   "metadata": {},
   "source": [
    "##### Here we can infer that self-employed customers get a lower chance of loan approval"
   ]
  },
  {
   "cell_type": "code",
   "execution_count": null,
   "id": "711804c0",
   "metadata": {},
   "outputs": [],
   "source": []
  },
  {
   "cell_type": "code",
   "execution_count": 25,
   "id": "bd00fdf3",
   "metadata": {},
   "outputs": [
    {
     "data": {
      "text/plain": [
       "2500    9\n",
       "6000    6\n",
       "2600    6\n",
       "4583    6\n",
       "4166    5\n",
       "       ..\n",
       "5503    1\n",
       "3450    1\n",
       "2425    1\n",
       "2423    1\n",
       "4095    1\n",
       "Name: ApplicantIncome, Length: 505, dtype: int64"
      ]
     },
     "execution_count": 25,
     "metadata": {},
     "output_type": "execute_result"
    }
   ],
   "source": [
    "df['ApplicantIncome'].value_counts(dropna=False)"
   ]
  },
  {
   "cell_type": "code",
   "execution_count": 26,
   "id": "607db7ae",
   "metadata": {},
   "outputs": [
    {
     "data": {
      "text/plain": [
       "<AxesSubplot:ylabel='ApplicantIncome'>"
      ]
     },
     "execution_count": 26,
     "metadata": {},
     "output_type": "execute_result"
    },
    {
     "data": {
      "image/png": "[encoded data removed]",
      "text/plain": [
       "<Figure size 432x288 with 1 Axes>"
      ]
     },
     "metadata": {
      "needs_background": "light"
     },
     "output_type": "display_data"
    }
   ],
   "source": [
    "#visualizing spread of ApplicantIncome numeric variable\n",
    "sns.boxplot(y=df['ApplicantIncome'])"
   ]
  },
  {
   "cell_type": "code",
   "execution_count": 27,
   "id": "71623ced",
   "metadata": {},
   "outputs": [
    {
     "data": {
      "text/plain": [
       "count      614.000000\n",
       "mean      5403.459283\n",
       "std       6109.041673\n",
       "min        150.000000\n",
       "1%        1025.000000\n",
       "5%        1897.550000\n",
       "10%       2216.100000\n",
       "25%       2877.500000\n",
       "50%       3812.500000\n",
       "75%       5795.000000\n",
       "90%       9459.900000\n",
       "95%      14583.000000\n",
       "99%      32540.410000\n",
       "max      81000.000000\n",
       "Name: ApplicantIncome, dtype: float64"
      ]
     },
     "execution_count": 27,
     "metadata": {},
     "output_type": "execute_result"
    }
   ],
   "source": [
    "#checking percentile values\n",
    "df['ApplicantIncome'].describe(percentiles=(0.01,0.05,0.1,0.25,0.5,0.75,0.9,0.95,0.99))"
   ]
  },
  {
   "cell_type": "code",
   "execution_count": 28,
   "id": "8bb4e141",
   "metadata": {},
   "outputs": [],
   "source": [
    "#capping\n",
    "# Outlier Treatment: Remove top & bottom 1% of the Column Outlier values"
   ]
  },
  {
   "cell_type": "code",
   "execution_count": 29,
   "id": "880e155f",
   "metadata": {},
   "outputs": [],
   "source": [
    "Q1=df['ApplicantIncome'].quantile(0.01)\n",
    "Q3=df['ApplicantIncome'].quantile(0.99)"
   ]
  },
  {
   "cell_type": "code",
   "execution_count": 30,
   "id": "eb99ced6",
   "metadata": {},
   "outputs": [],
   "source": [
    "df=df[df['ApplicantIncome']<=Q3]\n",
    "df=df[df['ApplicantIncome']>=Q1]"
   ]
  },
  {
   "cell_type": "code",
   "execution_count": 31,
   "id": "3835ebd5",
   "metadata": {},
   "outputs": [
    {
     "data": {
      "text/plain": [
       "(601, 13)"
      ]
     },
     "execution_count": 31,
     "metadata": {},
     "output_type": "execute_result"
    }
   ],
   "source": [
    "df.shape"
   ]
  },
  {
   "cell_type": "code",
   "execution_count": 32,
   "id": "535718e1",
   "metadata": {},
   "outputs": [
    {
     "data": {
      "text/plain": [
       "<AxesSubplot:xlabel='Loan_Status', ylabel='ApplicantIncome'>"
      ]
     },
     "execution_count": 32,
     "metadata": {},
     "output_type": "execute_result"
    },
    {
     "data": {
      "image/png": "[encoded data removed]",
      "text/plain": [
       "<Figure size 432x288 with 1 Axes>"
      ]
     },
     "metadata": {
      "needs_background": "light"
     },
     "output_type": "display_data"
    }
   ],
   "source": [
    "#checking Spread of \"ApplicantIncome\" vs Loan_Status variable\n",
    "sns.boxplot(y=df['ApplicantIncome'],x=df['Loan_Status'])"
   ]
  },
  {
   "cell_type": "markdown",
   "id": "5f718033",
   "metadata": {},
   "source": [
    "##### As the medians are same for both the categories we cannot infer anything from this column."
   ]
  },
  {
   "cell_type": "code",
   "execution_count": 33,
   "id": "b5ff2065",
   "metadata": {},
   "outputs": [
    {
     "data": {
      "text/plain": [
       "<AxesSubplot:ylabel='CoapplicantIncome'>"
      ]
     },
     "execution_count": 33,
     "metadata": {},
     "output_type": "execute_result"
    },
    {
     "data": {
      "image/png": "[encoded data removed]",
      "text/plain": [
       "<Figure size 432x288 with 1 Axes>"
      ]
     },
     "metadata": {
      "needs_background": "light"
     },
     "output_type": "display_data"
    }
   ],
   "source": [
    "#visualizing spread of CoapplicantIncome numeric variable\n",
    "sns.boxplot(y=df['CoapplicantIncome'])"
   ]
  },
  {
   "cell_type": "code",
   "execution_count": 34,
   "id": "bb0eb858",
   "metadata": {},
   "outputs": [
    {
     "data": {
      "text/plain": [
       "count      601.000000\n",
       "mean      1551.264426\n",
       "std       2447.952413\n",
       "min          0.000000\n",
       "1%           0.000000\n",
       "5%           0.000000\n",
       "10%          0.000000\n",
       "25%          0.000000\n",
       "50%       1167.000000\n",
       "75%       2254.000000\n",
       "90%       3750.000000\n",
       "95%       4983.000000\n",
       "99%       8333.000000\n",
       "max      33837.000000\n",
       "Name: CoapplicantIncome, dtype: float64"
      ]
     },
     "execution_count": 34,
     "metadata": {},
     "output_type": "execute_result"
    }
   ],
   "source": [
    "#checking percentiles for \"CoapplicantIncome\"\n",
    "df['CoapplicantIncome'].describe(percentiles=(0.01,0.05,0.1,0.25,0.5,0.75,0.9,0.95,0.99))"
   ]
  },
  {
   "cell_type": "code",
   "execution_count": 35,
   "id": "850d7813",
   "metadata": {},
   "outputs": [],
   "source": [
    "#Outlier Treatment: Remove top & bottom 1% \n",
    "Q1=df['CoapplicantIncome'].quantile(0.01)\n",
    "Q3=df['CoapplicantIncome'].quantile(0.99)\n",
    "df=df[df['CoapplicantIncome']<=Q3]\n",
    "df=df[df['CoapplicantIncome']>=Q1]"
   ]
  },
  {
   "cell_type": "code",
   "execution_count": 36,
   "id": "55beef8f",
   "metadata": {},
   "outputs": [
    {
     "data": {
      "text/plain": [
       "(595, 13)"
      ]
     },
     "execution_count": 36,
     "metadata": {},
     "output_type": "execute_result"
    }
   ],
   "source": [
    "df.shape"
   ]
  },
  {
   "cell_type": "code",
   "execution_count": 37,
   "id": "740d2010",
   "metadata": {},
   "outputs": [
    {
     "data": {
      "text/plain": [
       "<AxesSubplot:xlabel='Loan_Status', ylabel='CoapplicantIncome'>"
      ]
     },
     "execution_count": 37,
     "metadata": {},
     "output_type": "execute_result"
    },
    {
     "data": {
      "image/png": "[encoded data removed]",
      "text/plain": [
       "<Figure size 432x288 with 1 Axes>"
      ]
     },
     "metadata": {
      "needs_background": "light"
     },
     "output_type": "display_data"
    }
   ],
   "source": [
    "#checking Spread of \"CoapplicantIncome\" vs Loan_Status variable\n",
    "sns.boxplot(y=df['CoapplicantIncome'],x=df['Loan_Status'])"
   ]
  },
  {
   "cell_type": "code",
   "execution_count": 38,
   "id": "07ec7e41",
   "metadata": {},
   "outputs": [],
   "source": [
    "#visualizing spread of LoanAmount numeric variable"
   ]
  },
  {
   "cell_type": "code",
   "execution_count": 39,
   "id": "3d09c61d",
   "metadata": {},
   "outputs": [
    {
     "data": {
      "text/plain": [
       "<AxesSubplot:ylabel='LoanAmount'>"
      ]
     },
     "execution_count": 39,
     "metadata": {},
     "output_type": "execute_result"
    },
    {
     "data": {
      "image/png": "[encoded data removed]",
      "text/plain": [
       "<Figure size 432x288 with 1 Axes>"
      ]
     },
     "metadata": {
      "needs_background": "light"
     },
     "output_type": "display_data"
    }
   ],
   "source": [
    " sns.boxplot(y=df['LoanAmount'])"
   ]
  },
  {
   "cell_type": "code",
   "execution_count": 40,
   "id": "562f8f5f",
   "metadata": {},
   "outputs": [
    {
     "data": {
      "text/plain": [
       "22"
      ]
     },
     "execution_count": 40,
     "metadata": {},
     "output_type": "execute_result"
    }
   ],
   "source": [
    "df['LoanAmount'].isnull().sum()"
   ]
  },
  {
   "cell_type": "code",
   "execution_count": 41,
   "id": "9a660535",
   "metadata": {},
   "outputs": [
    {
     "data": {
      "text/plain": [
       "count    573.000000\n",
       "mean     142.420593\n",
       "std       77.182008\n",
       "min        9.000000\n",
       "1%        30.000000\n",
       "5%        55.600000\n",
       "10%       71.000000\n",
       "25%      100.000000\n",
       "50%      127.000000\n",
       "75%      165.000000\n",
       "90%      217.600000\n",
       "95%      276.600000\n",
       "99%      480.000000\n",
       "max      650.000000\n",
       "Name: LoanAmount, dtype: float64"
      ]
     },
     "execution_count": 41,
     "metadata": {},
     "output_type": "execute_result"
    }
   ],
   "source": [
    "#checking percentiles for \"LoanAmount\"\n",
    "df['LoanAmount'].describe(percentiles=(0.01,0.05,0.1,0.25,0.5,0.75,0.9,0.95,0.99))"
   ]
  },
  {
   "cell_type": "code",
   "execution_count": 42,
   "id": "451b5d6b",
   "metadata": {},
   "outputs": [],
   "source": [
    "#Outlier Treatment: Remove top & bottom 1% \n",
    "Q1=df['LoanAmount'].quantile(0.01)\n",
    "Q3=df['LoanAmount'].quantile(0.99)\n",
    "df=df[df['LoanAmount']<=Q3]\n",
    "df=df[df['LoanAmount']>=Q1]"
   ]
  },
  {
   "cell_type": "code",
   "execution_count": 43,
   "id": "8b81ad74",
   "metadata": {},
   "outputs": [
    {
     "data": {
      "text/plain": [
       "(563, 13)"
      ]
     },
     "execution_count": 43,
     "metadata": {},
     "output_type": "execute_result"
    }
   ],
   "source": [
    "df.shape"
   ]
  },
  {
   "cell_type": "code",
   "execution_count": 44,
   "id": "c0b3cfed",
   "metadata": {
    "scrolled": true
   },
   "outputs": [
    {
     "data": {
      "text/plain": [
       "<AxesSubplot:xlabel='Loan_Status', ylabel='LoanAmount'>"
      ]
     },
     "execution_count": 44,
     "metadata": {},
     "output_type": "execute_result"
    },
    {
     "data": {
      "image/png": "[encoded data removed]",
      "text/plain": [
       "<Figure size 432x288 with 1 Axes>"
      ]
     },
     "metadata": {
      "needs_background": "light"
     },
     "output_type": "display_data"
    }
   ],
   "source": [
    "#checking Spread of \"LoanAmount \" vs Loan_Status variable\n",
    "sns.boxplot(y=df['LoanAmount'],x=df['Loan_Status'])"
   ]
  },
  {
   "cell_type": "code",
   "execution_count": 45,
   "id": "18b60235",
   "metadata": {
    "scrolled": true
   },
   "outputs": [
    {
     "data": {
      "text/plain": [
       "360.0    473\n",
       "180.0     39\n",
       "NaN       14\n",
       "480.0     13\n",
       "300.0     12\n",
       "84.0       4\n",
       "240.0      3\n",
       "36.0       2\n",
       "60.0       2\n",
       "12.0       1\n",
       "Name: Loan_Amount_Term, dtype: int64"
      ]
     },
     "execution_count": 45,
     "metadata": {},
     "output_type": "execute_result"
    }
   ],
   "source": [
    "df['Loan_Amount_Term'].value_counts(dropna=False)"
   ]
  },
  {
   "cell_type": "code",
   "execution_count": null,
   "id": "6cd041b4",
   "metadata": {},
   "outputs": [],
   "source": []
  },
  {
   "cell_type": "code",
   "execution_count": 46,
   "id": "06bc4597",
   "metadata": {},
   "outputs": [],
   "source": [
    "df['Loan_Amount_Term']=df['Loan_Amount_Term'].bfill()"
   ]
  },
  {
   "cell_type": "code",
   "execution_count": 47,
   "id": "0df52cda",
   "metadata": {},
   "outputs": [
    {
     "data": {
      "text/plain": [
       "<AxesSubplot:xlabel='Loan_Amount_Term', ylabel='count'>"
      ]
     },
     "execution_count": 47,
     "metadata": {},
     "output_type": "execute_result"
    },
    {
     "data": {
      "image/png": "[encoded data removed]",
      "text/plain": [
       "<Figure size 432x288 with 1 Axes>"
      ]
     },
     "metadata": {
      "needs_background": "light"
     },
     "output_type": "display_data"
    }
   ],
   "source": [
    "sns.countplot(x=df['Loan_Amount_Term'],hue=df['Loan_Status'])"
   ]
  },
  {
   "cell_type": "code",
   "execution_count": 48,
   "id": "4be686d2",
   "metadata": {},
   "outputs": [
    {
     "data": {
      "text/plain": [
       "Index(['Loan_ID', 'Gender', 'Married', 'Dependents', 'Education',\n",
       "       'Self_Employed', 'ApplicantIncome', 'CoapplicantIncome', 'LoanAmount',\n",
       "       'Loan_Amount_Term', 'Credit_History', 'Property_Area', 'Loan_Status'],\n",
       "      dtype='object')"
      ]
     },
     "execution_count": 48,
     "metadata": {},
     "output_type": "execute_result"
    }
   ],
   "source": [
    "df.columns"
   ]
  },
  {
   "cell_type": "code",
   "execution_count": 49,
   "id": "e86464e2",
   "metadata": {},
   "outputs": [
    {
     "data": {
      "text/plain": [
       "1.0    0.772647\n",
       "0.0    0.143872\n",
       "NaN    0.083481\n",
       "Name: Credit_History, dtype: float64"
      ]
     },
     "execution_count": 49,
     "metadata": {},
     "output_type": "execute_result"
    }
   ],
   "source": [
    "df['Credit_History'].value_counts(dropna=False,normalize=True)"
   ]
  },
  {
   "cell_type": "code",
   "execution_count": null,
   "id": "d5d5dcd7",
   "metadata": {},
   "outputs": [],
   "source": []
  },
  {
   "cell_type": "code",
   "execution_count": 50,
   "id": "0ed9ad7d",
   "metadata": {},
   "outputs": [],
   "source": [
    "df['Credit_History']=df['Credit_History'].bfill()"
   ]
  },
  {
   "cell_type": "code",
   "execution_count": 51,
   "id": "0a714973",
   "metadata": {},
   "outputs": [
    {
     "data": {
      "text/plain": [
       "1.0    0.841918\n",
       "0.0    0.158082\n",
       "Name: Credit_History, dtype: float64"
      ]
     },
     "execution_count": 51,
     "metadata": {},
     "output_type": "execute_result"
    }
   ],
   "source": [
    "df['Credit_History'].value_counts(dropna=False,normalize=True)"
   ]
  },
  {
   "cell_type": "code",
   "execution_count": 52,
   "id": "b7b935bf",
   "metadata": {
    "scrolled": true
   },
   "outputs": [
    {
     "data": {
      "text/plain": [
       "<AxesSubplot:xlabel='Credit_History', ylabel='count'>"
      ]
     },
     "execution_count": 52,
     "metadata": {},
     "output_type": "execute_result"
    },
    {
     "data": {
      "image/png": "[encoded data removed]",
      "text/plain": [
       "<Figure size 432x288 with 1 Axes>"
      ]
     },
     "metadata": {
      "needs_background": "light"
     },
     "output_type": "display_data"
    }
   ],
   "source": [
    "sns.countplot(x=df['Credit_History'],hue=df['Loan_Status'])"
   ]
  },
  {
   "cell_type": "markdown",
   "id": "0738b3f6",
   "metadata": {},
   "source": [
    "##### Here  we can see that credit history having a score of 1 will get more chance of approval"
   ]
  },
  {
   "cell_type": "code",
   "execution_count": 53,
   "id": "a125afce",
   "metadata": {},
   "outputs": [
    {
     "data": {
      "text/plain": [
       "Semiurban    0.380107\n",
       "Urban        0.321492\n",
       "Rural        0.298401\n",
       "Name: Property_Area, dtype: float64"
      ]
     },
     "execution_count": 53,
     "metadata": {},
     "output_type": "execute_result"
    }
   ],
   "source": [
    "df['Property_Area'].value_counts(dropna=False,normalize=True)"
   ]
  },
  {
   "cell_type": "code",
   "execution_count": 54,
   "id": "2b74cebc",
   "metadata": {
    "scrolled": true
   },
   "outputs": [
    {
     "data": {
      "text/plain": [
       "<AxesSubplot:xlabel='Property_Area', ylabel='count'>"
      ]
     },
     "execution_count": 54,
     "metadata": {},
     "output_type": "execute_result"
    },
    {
     "data": {
      "image/png": "[encoded data removed]",
      "text/plain": [
       "<Figure size 432x288 with 1 Axes>"
      ]
     },
     "metadata": {
      "needs_background": "light"
     },
     "output_type": "display_data"
    }
   ],
   "source": [
    "sns.countplot(x=df['Property_Area'],hue=df['Loan_Status'])"
   ]
  },
  {
   "cell_type": "markdown",
   "id": "4af4ebde",
   "metadata": {},
   "source": [
    "##### Here we can infer that semiurban customers get a higher chance of loan approval\n"
   ]
  },
  {
   "cell_type": "code",
   "execution_count": 55,
   "id": "03c88648",
   "metadata": {},
   "outputs": [
    {
     "data": {
      "text/plain": [
       "120.0    0.033748\n",
       "110.0    0.028419\n",
       "100.0    0.026643\n",
       "187.0    0.021314\n",
       "160.0    0.021314\n",
       "           ...   \n",
       "405.0    0.001776\n",
       "376.0    0.001776\n",
       "211.0    0.001776\n",
       "250.0    0.001776\n",
       "436.0    0.001776\n",
       "Name: LoanAmount, Length: 187, dtype: float64"
      ]
     },
     "execution_count": 55,
     "metadata": {},
     "output_type": "execute_result"
    }
   ],
   "source": [
    "df['LoanAmount'].value_counts(dropna=False,normalize=True)"
   ]
  },
  {
   "cell_type": "code",
   "execution_count": 56,
   "id": "7f6d35a7",
   "metadata": {},
   "outputs": [
    {
     "data": {
      "text/plain": [
       "<AxesSubplot:>"
      ]
     },
     "execution_count": 56,
     "metadata": {},
     "output_type": "execute_result"
    },
    {
     "data": {
      "image/png": "[encoded data removed]",
      "text/plain": [
       "<Figure size 432x288 with 2 Axes>"
      ]
     },
     "metadata": {
      "needs_background": "light"
     },
     "output_type": "display_data"
    }
   ],
   "source": [
    "#Visualization of correlation using Heat map\n",
    "sns.heatmap(df.corr(),annot=True,cmap='Blues')"
   ]
  },
  {
   "cell_type": "code",
   "execution_count": null,
   "id": "4aeb6472",
   "metadata": {},
   "outputs": [],
   "source": []
  },
  {
   "cell_type": "markdown",
   "id": "a110f560",
   "metadata": {},
   "source": [
    "# Dummy Creation"
   ]
  },
  {
   "cell_type": "code",
   "execution_count": 57,
   "id": "eae20925",
   "metadata": {},
   "outputs": [
    {
     "data": {
      "text/plain": [
       "Index(['Loan_ID', 'Gender', 'Married', 'Dependents', 'Education',\n",
       "       'Self_Employed', 'Property_Area', 'Loan_Status'],\n",
       "      dtype='object')"
      ]
     },
     "execution_count": 57,
     "metadata": {},
     "output_type": "execute_result"
    }
   ],
   "source": [
    "# List of  categorical columns\n",
    "df.select_dtypes(include=object).columns"
   ]
  },
  {
   "cell_type": "code",
   "execution_count": 58,
   "id": "7efd4fd9",
   "metadata": {
    "scrolled": true
   },
   "outputs": [
    {
     "data": {
      "text/html": [
       "<div>\n",
       "<style scoped>\n",
       "    .dataframe tbody tr th:only-of-type {\n",
       "        vertical-align: middle;\n",
       "    }\n",
       "\n",
       "    .dataframe tbody tr th {\n",
       "        vertical-align: top;\n",
       "    }\n",
       "\n",
       "    .dataframe thead th {\n",
       "        text-align: right;\n",
       "    }\n",
       "</style>\n",
       "<table border=\"1\" class=\"dataframe\">\n",
       "  <thead>\n",
       "    <tr style=\"text-align: right;\">\n",
       "      <th></th>\n",
       "      <th>Property_Area_Rural</th>\n",
       "      <th>Property_Area_Semiurban</th>\n",
       "      <th>Property_Area_Urban</th>\n",
       "    </tr>\n",
       "  </thead>\n",
       "  <tbody>\n",
       "    <tr>\n",
       "      <th>1</th>\n",
       "      <td>1</td>\n",
       "      <td>0</td>\n",
       "      <td>0</td>\n",
       "    </tr>\n",
       "    <tr>\n",
       "      <th>2</th>\n",
       "      <td>0</td>\n",
       "      <td>0</td>\n",
       "      <td>1</td>\n",
       "    </tr>\n",
       "    <tr>\n",
       "      <th>3</th>\n",
       "      <td>0</td>\n",
       "      <td>0</td>\n",
       "      <td>1</td>\n",
       "    </tr>\n",
       "    <tr>\n",
       "      <th>4</th>\n",
       "      <td>0</td>\n",
       "      <td>0</td>\n",
       "      <td>1</td>\n",
       "    </tr>\n",
       "    <tr>\n",
       "      <th>5</th>\n",
       "      <td>0</td>\n",
       "      <td>0</td>\n",
       "      <td>1</td>\n",
       "    </tr>\n",
       "    <tr>\n",
       "      <th>...</th>\n",
       "      <td>...</td>\n",
       "      <td>...</td>\n",
       "      <td>...</td>\n",
       "    </tr>\n",
       "    <tr>\n",
       "      <th>609</th>\n",
       "      <td>1</td>\n",
       "      <td>0</td>\n",
       "      <td>0</td>\n",
       "    </tr>\n",
       "    <tr>\n",
       "      <th>610</th>\n",
       "      <td>1</td>\n",
       "      <td>0</td>\n",
       "      <td>0</td>\n",
       "    </tr>\n",
       "    <tr>\n",
       "      <th>611</th>\n",
       "      <td>0</td>\n",
       "      <td>0</td>\n",
       "      <td>1</td>\n",
       "    </tr>\n",
       "    <tr>\n",
       "      <th>612</th>\n",
       "      <td>0</td>\n",
       "      <td>0</td>\n",
       "      <td>1</td>\n",
       "    </tr>\n",
       "    <tr>\n",
       "      <th>613</th>\n",
       "      <td>0</td>\n",
       "      <td>1</td>\n",
       "      <td>0</td>\n",
       "    </tr>\n",
       "  </tbody>\n",
       "</table>\n",
       "<p>563 rows × 3 columns</p>\n",
       "</div>"
      ],
      "text/plain": [
       "     Property_Area_Rural  Property_Area_Semiurban  Property_Area_Urban\n",
       "1                      1                        0                    0\n",
       "2                      0                        0                    1\n",
       "3                      0                        0                    1\n",
       "4                      0                        0                    1\n",
       "5                      0                        0                    1\n",
       "..                   ...                      ...                  ...\n",
       "609                    1                        0                    0\n",
       "610                    1                        0                    0\n",
       "611                    0                        0                    1\n",
       "612                    0                        0                    1\n",
       "613                    0                        1                    0\n",
       "\n",
       "[563 rows x 3 columns]"
      ]
     },
     "execution_count": 58,
     "metadata": {},
     "output_type": "execute_result"
    }
   ],
   "source": [
    "dummy=pd.get_dummies(df['Property_Area'],prefix='Property_Area')\n",
    "dummy"
   ]
  },
  {
   "cell_type": "code",
   "execution_count": 59,
   "id": "51046efc",
   "metadata": {},
   "outputs": [
    {
     "data": {
      "text/html": [
       "<div>\n",
       "<style scoped>\n",
       "    .dataframe tbody tr th:only-of-type {\n",
       "        vertical-align: middle;\n",
       "    }\n",
       "\n",
       "    .dataframe tbody tr th {\n",
       "        vertical-align: top;\n",
       "    }\n",
       "\n",
       "    .dataframe thead th {\n",
       "        text-align: right;\n",
       "    }\n",
       "</style>\n",
       "<table border=\"1\" class=\"dataframe\">\n",
       "  <thead>\n",
       "    <tr style=\"text-align: right;\">\n",
       "      <th></th>\n",
       "      <th>Loan_ID</th>\n",
       "      <th>Gender</th>\n",
       "      <th>Married</th>\n",
       "      <th>Dependents</th>\n",
       "      <th>Education</th>\n",
       "      <th>Self_Employed</th>\n",
       "      <th>ApplicantIncome</th>\n",
       "      <th>CoapplicantIncome</th>\n",
       "      <th>LoanAmount</th>\n",
       "      <th>Loan_Amount_Term</th>\n",
       "      <th>Credit_History</th>\n",
       "      <th>Loan_Status</th>\n",
       "      <th>Property_Area_Rural</th>\n",
       "      <th>Property_Area_Semiurban</th>\n",
       "      <th>Property_Area_Urban</th>\n",
       "    </tr>\n",
       "  </thead>\n",
       "  <tbody>\n",
       "    <tr>\n",
       "      <th>1</th>\n",
       "      <td>LP001003</td>\n",
       "      <td>Male</td>\n",
       "      <td>Yes</td>\n",
       "      <td>1</td>\n",
       "      <td>Graduate</td>\n",
       "      <td>No</td>\n",
       "      <td>4583</td>\n",
       "      <td>1508.0</td>\n",
       "      <td>128.0</td>\n",
       "      <td>360.0</td>\n",
       "      <td>1.0</td>\n",
       "      <td>N</td>\n",
       "      <td>1</td>\n",
       "      <td>0</td>\n",
       "      <td>0</td>\n",
       "    </tr>\n",
       "    <tr>\n",
       "      <th>2</th>\n",
       "      <td>LP001005</td>\n",
       "      <td>Male</td>\n",
       "      <td>Yes</td>\n",
       "      <td>0</td>\n",
       "      <td>Graduate</td>\n",
       "      <td>Yes</td>\n",
       "      <td>3000</td>\n",
       "      <td>0.0</td>\n",
       "      <td>66.0</td>\n",
       "      <td>360.0</td>\n",
       "      <td>1.0</td>\n",
       "      <td>Y</td>\n",
       "      <td>0</td>\n",
       "      <td>0</td>\n",
       "      <td>1</td>\n",
       "    </tr>\n",
       "    <tr>\n",
       "      <th>3</th>\n",
       "      <td>LP001006</td>\n",
       "      <td>Male</td>\n",
       "      <td>Yes</td>\n",
       "      <td>0</td>\n",
       "      <td>Not Graduate</td>\n",
       "      <td>No</td>\n",
       "      <td>2583</td>\n",
       "      <td>2358.0</td>\n",
       "      <td>120.0</td>\n",
       "      <td>360.0</td>\n",
       "      <td>1.0</td>\n",
       "      <td>Y</td>\n",
       "      <td>0</td>\n",
       "      <td>0</td>\n",
       "      <td>1</td>\n",
       "    </tr>\n",
       "    <tr>\n",
       "      <th>4</th>\n",
       "      <td>LP001008</td>\n",
       "      <td>Male</td>\n",
       "      <td>No</td>\n",
       "      <td>0</td>\n",
       "      <td>Graduate</td>\n",
       "      <td>No</td>\n",
       "      <td>6000</td>\n",
       "      <td>0.0</td>\n",
       "      <td>141.0</td>\n",
       "      <td>360.0</td>\n",
       "      <td>1.0</td>\n",
       "      <td>Y</td>\n",
       "      <td>0</td>\n",
       "      <td>0</td>\n",
       "      <td>1</td>\n",
       "    </tr>\n",
       "    <tr>\n",
       "      <th>5</th>\n",
       "      <td>LP001011</td>\n",
       "      <td>Male</td>\n",
       "      <td>Yes</td>\n",
       "      <td>2</td>\n",
       "      <td>Graduate</td>\n",
       "      <td>Yes</td>\n",
       "      <td>5417</td>\n",
       "      <td>4196.0</td>\n",
       "      <td>267.0</td>\n",
       "      <td>360.0</td>\n",
       "      <td>1.0</td>\n",
       "      <td>Y</td>\n",
       "      <td>0</td>\n",
       "      <td>0</td>\n",
       "      <td>1</td>\n",
       "    </tr>\n",
       "    <tr>\n",
       "      <th>...</th>\n",
       "      <td>...</td>\n",
       "      <td>...</td>\n",
       "      <td>...</td>\n",
       "      <td>...</td>\n",
       "      <td>...</td>\n",
       "      <td>...</td>\n",
       "      <td>...</td>\n",
       "      <td>...</td>\n",
       "      <td>...</td>\n",
       "      <td>...</td>\n",
       "      <td>...</td>\n",
       "      <td>...</td>\n",
       "      <td>...</td>\n",
       "      <td>...</td>\n",
       "      <td>...</td>\n",
       "    </tr>\n",
       "    <tr>\n",
       "      <th>609</th>\n",
       "      <td>LP002978</td>\n",
       "      <td>Female</td>\n",
       "      <td>No</td>\n",
       "      <td>0</td>\n",
       "      <td>Graduate</td>\n",
       "      <td>No</td>\n",
       "      <td>2900</td>\n",
       "      <td>0.0</td>\n",
       "      <td>71.0</td>\n",
       "      <td>360.0</td>\n",
       "      <td>1.0</td>\n",
       "      <td>Y</td>\n",
       "      <td>1</td>\n",
       "      <td>0</td>\n",
       "      <td>0</td>\n",
       "    </tr>\n",
       "    <tr>\n",
       "      <th>610</th>\n",
       "      <td>LP002979</td>\n",
       "      <td>Male</td>\n",
       "      <td>Yes</td>\n",
       "      <td>3</td>\n",
       "      <td>Graduate</td>\n",
       "      <td>No</td>\n",
       "      <td>4106</td>\n",
       "      <td>0.0</td>\n",
       "      <td>40.0</td>\n",
       "      <td>180.0</td>\n",
       "      <td>1.0</td>\n",
       "      <td>Y</td>\n",
       "      <td>1</td>\n",
       "      <td>0</td>\n",
       "      <td>0</td>\n",
       "    </tr>\n",
       "    <tr>\n",
       "      <th>611</th>\n",
       "      <td>LP002983</td>\n",
       "      <td>Male</td>\n",
       "      <td>Yes</td>\n",
       "      <td>1</td>\n",
       "      <td>Graduate</td>\n",
       "      <td>No</td>\n",
       "      <td>8072</td>\n",
       "      <td>240.0</td>\n",
       "      <td>253.0</td>\n",
       "      <td>360.0</td>\n",
       "      <td>1.0</td>\n",
       "      <td>Y</td>\n",
       "      <td>0</td>\n",
       "      <td>0</td>\n",
       "      <td>1</td>\n",
       "    </tr>\n",
       "    <tr>\n",
       "      <th>612</th>\n",
       "      <td>LP002984</td>\n",
       "      <td>Male</td>\n",
       "      <td>Yes</td>\n",
       "      <td>2</td>\n",
       "      <td>Graduate</td>\n",
       "      <td>No</td>\n",
       "      <td>7583</td>\n",
       "      <td>0.0</td>\n",
       "      <td>187.0</td>\n",
       "      <td>360.0</td>\n",
       "      <td>1.0</td>\n",
       "      <td>Y</td>\n",
       "      <td>0</td>\n",
       "      <td>0</td>\n",
       "      <td>1</td>\n",
       "    </tr>\n",
       "    <tr>\n",
       "      <th>613</th>\n",
       "      <td>LP002990</td>\n",
       "      <td>Female</td>\n",
       "      <td>No</td>\n",
       "      <td>0</td>\n",
       "      <td>Graduate</td>\n",
       "      <td>Yes</td>\n",
       "      <td>4583</td>\n",
       "      <td>0.0</td>\n",
       "      <td>133.0</td>\n",
       "      <td>360.0</td>\n",
       "      <td>0.0</td>\n",
       "      <td>N</td>\n",
       "      <td>0</td>\n",
       "      <td>1</td>\n",
       "      <td>0</td>\n",
       "    </tr>\n",
       "  </tbody>\n",
       "</table>\n",
       "<p>563 rows × 15 columns</p>\n",
       "</div>"
      ],
      "text/plain": [
       "      Loan_ID  Gender Married Dependents     Education Self_Employed  \\\n",
       "1    LP001003    Male     Yes          1      Graduate            No   \n",
       "2    LP001005    Male     Yes          0      Graduate           Yes   \n",
       "3    LP001006    Male     Yes          0  Not Graduate            No   \n",
       "4    LP001008    Male      No          0      Graduate            No   \n",
       "5    LP001011    Male     Yes          2      Graduate           Yes   \n",
       "..        ...     ...     ...        ...           ...           ...   \n",
       "609  LP002978  Female      No          0      Graduate            No   \n",
       "610  LP002979    Male     Yes          3      Graduate            No   \n",
       "611  LP002983    Male     Yes          1      Graduate            No   \n",
       "612  LP002984    Male     Yes          2      Graduate            No   \n",
       "613  LP002990  Female      No          0      Graduate           Yes   \n",
       "\n",
       "     ApplicantIncome  CoapplicantIncome  LoanAmount  Loan_Amount_Term  \\\n",
       "1               4583             1508.0       128.0             360.0   \n",
       "2               3000                0.0        66.0             360.0   \n",
       "3               2583             2358.0       120.0             360.0   \n",
       "4               6000                0.0       141.0             360.0   \n",
       "5               5417             4196.0       267.0             360.0   \n",
       "..               ...                ...         ...               ...   \n",
       "609             2900                0.0        71.0             360.0   \n",
       "610             4106                0.0        40.0             180.0   \n",
       "611             8072              240.0       253.0             360.0   \n",
       "612             7583                0.0       187.0             360.0   \n",
       "613             4583                0.0       133.0             360.0   \n",
       "\n",
       "     Credit_History Loan_Status  Property_Area_Rural  Property_Area_Semiurban  \\\n",
       "1               1.0           N                    1                        0   \n",
       "2               1.0           Y                    0                        0   \n",
       "3               1.0           Y                    0                        0   \n",
       "4               1.0           Y                    0                        0   \n",
       "5               1.0           Y                    0                        0   \n",
       "..              ...         ...                  ...                      ...   \n",
       "609             1.0           Y                    1                        0   \n",
       "610             1.0           Y                    1                        0   \n",
       "611             1.0           Y                    0                        0   \n",
       "612             1.0           Y                    0                        0   \n",
       "613             0.0           N                    0                        1   \n",
       "\n",
       "     Property_Area_Urban  \n",
       "1                      0  \n",
       "2                      1  \n",
       "3                      1  \n",
       "4                      1  \n",
       "5                      1  \n",
       "..                   ...  \n",
       "609                    0  \n",
       "610                    0  \n",
       "611                    1  \n",
       "612                    1  \n",
       "613                    0  \n",
       "\n",
       "[563 rows x 15 columns]"
      ]
     },
     "execution_count": 59,
     "metadata": {},
     "output_type": "execute_result"
    }
   ],
   "source": [
    "df=pd.concat([df,dummy],1)\n",
    "df=df.drop('Property_Area',1)\n",
    "df"
   ]
  },
  {
   "cell_type": "code",
   "execution_count": 60,
   "id": "e62e5fec",
   "metadata": {},
   "outputs": [
    {
     "data": {
      "text/html": [
       "<div>\n",
       "<style scoped>\n",
       "    .dataframe tbody tr th:only-of-type {\n",
       "        vertical-align: middle;\n",
       "    }\n",
       "\n",
       "    .dataframe tbody tr th {\n",
       "        vertical-align: top;\n",
       "    }\n",
       "\n",
       "    .dataframe thead th {\n",
       "        text-align: right;\n",
       "    }\n",
       "</style>\n",
       "<table border=\"1\" class=\"dataframe\">\n",
       "  <thead>\n",
       "    <tr style=\"text-align: right;\">\n",
       "      <th></th>\n",
       "      <th>Loan_ID</th>\n",
       "      <th>Gender</th>\n",
       "      <th>Married</th>\n",
       "      <th>Dependents</th>\n",
       "      <th>Education</th>\n",
       "      <th>Self_Employed</th>\n",
       "      <th>ApplicantIncome</th>\n",
       "      <th>CoapplicantIncome</th>\n",
       "      <th>LoanAmount</th>\n",
       "      <th>Loan_Amount_Term</th>\n",
       "      <th>Credit_History</th>\n",
       "      <th>Loan_Status</th>\n",
       "      <th>Property_Area_Rural</th>\n",
       "      <th>Property_Area_Semiurban</th>\n",
       "      <th>Property_Area_Urban</th>\n",
       "      <th>gender_Female</th>\n",
       "      <th>gender_Male</th>\n",
       "      <th>Education_Graduate</th>\n",
       "      <th>Education_Not Graduate</th>\n",
       "    </tr>\n",
       "  </thead>\n",
       "  <tbody>\n",
       "    <tr>\n",
       "      <th>1</th>\n",
       "      <td>LP001003</td>\n",
       "      <td>Male</td>\n",
       "      <td>Yes</td>\n",
       "      <td>1</td>\n",
       "      <td>Graduate</td>\n",
       "      <td>No</td>\n",
       "      <td>4583</td>\n",
       "      <td>1508.0</td>\n",
       "      <td>128.0</td>\n",
       "      <td>360.0</td>\n",
       "      <td>1.0</td>\n",
       "      <td>N</td>\n",
       "      <td>1</td>\n",
       "      <td>0</td>\n",
       "      <td>0</td>\n",
       "      <td>0</td>\n",
       "      <td>1</td>\n",
       "      <td>1</td>\n",
       "      <td>0</td>\n",
       "    </tr>\n",
       "    <tr>\n",
       "      <th>2</th>\n",
       "      <td>LP001005</td>\n",
       "      <td>Male</td>\n",
       "      <td>Yes</td>\n",
       "      <td>0</td>\n",
       "      <td>Graduate</td>\n",
       "      <td>Yes</td>\n",
       "      <td>3000</td>\n",
       "      <td>0.0</td>\n",
       "      <td>66.0</td>\n",
       "      <td>360.0</td>\n",
       "      <td>1.0</td>\n",
       "      <td>Y</td>\n",
       "      <td>0</td>\n",
       "      <td>0</td>\n",
       "      <td>1</td>\n",
       "      <td>0</td>\n",
       "      <td>1</td>\n",
       "      <td>1</td>\n",
       "      <td>0</td>\n",
       "    </tr>\n",
       "    <tr>\n",
       "      <th>3</th>\n",
       "      <td>LP001006</td>\n",
       "      <td>Male</td>\n",
       "      <td>Yes</td>\n",
       "      <td>0</td>\n",
       "      <td>Not Graduate</td>\n",
       "      <td>No</td>\n",
       "      <td>2583</td>\n",
       "      <td>2358.0</td>\n",
       "      <td>120.0</td>\n",
       "      <td>360.0</td>\n",
       "      <td>1.0</td>\n",
       "      <td>Y</td>\n",
       "      <td>0</td>\n",
       "      <td>0</td>\n",
       "      <td>1</td>\n",
       "      <td>0</td>\n",
       "      <td>1</td>\n",
       "      <td>0</td>\n",
       "      <td>1</td>\n",
       "    </tr>\n",
       "    <tr>\n",
       "      <th>4</th>\n",
       "      <td>LP001008</td>\n",
       "      <td>Male</td>\n",
       "      <td>No</td>\n",
       "      <td>0</td>\n",
       "      <td>Graduate</td>\n",
       "      <td>No</td>\n",
       "      <td>6000</td>\n",
       "      <td>0.0</td>\n",
       "      <td>141.0</td>\n",
       "      <td>360.0</td>\n",
       "      <td>1.0</td>\n",
       "      <td>Y</td>\n",
       "      <td>0</td>\n",
       "      <td>0</td>\n",
       "      <td>1</td>\n",
       "      <td>0</td>\n",
       "      <td>1</td>\n",
       "      <td>1</td>\n",
       "      <td>0</td>\n",
       "    </tr>\n",
       "    <tr>\n",
       "      <th>5</th>\n",
       "      <td>LP001011</td>\n",
       "      <td>Male</td>\n",
       "      <td>Yes</td>\n",
       "      <td>2</td>\n",
       "      <td>Graduate</td>\n",
       "      <td>Yes</td>\n",
       "      <td>5417</td>\n",
       "      <td>4196.0</td>\n",
       "      <td>267.0</td>\n",
       "      <td>360.0</td>\n",
       "      <td>1.0</td>\n",
       "      <td>Y</td>\n",
       "      <td>0</td>\n",
       "      <td>0</td>\n",
       "      <td>1</td>\n",
       "      <td>0</td>\n",
       "      <td>1</td>\n",
       "      <td>1</td>\n",
       "      <td>0</td>\n",
       "    </tr>\n",
       "    <tr>\n",
       "      <th>...</th>\n",
       "      <td>...</td>\n",
       "      <td>...</td>\n",
       "      <td>...</td>\n",
       "      <td>...</td>\n",
       "      <td>...</td>\n",
       "      <td>...</td>\n",
       "      <td>...</td>\n",
       "      <td>...</td>\n",
       "      <td>...</td>\n",
       "      <td>...</td>\n",
       "      <td>...</td>\n",
       "      <td>...</td>\n",
       "      <td>...</td>\n",
       "      <td>...</td>\n",
       "      <td>...</td>\n",
       "      <td>...</td>\n",
       "      <td>...</td>\n",
       "      <td>...</td>\n",
       "      <td>...</td>\n",
       "    </tr>\n",
       "    <tr>\n",
       "      <th>609</th>\n",
       "      <td>LP002978</td>\n",
       "      <td>Female</td>\n",
       "      <td>No</td>\n",
       "      <td>0</td>\n",
       "      <td>Graduate</td>\n",
       "      <td>No</td>\n",
       "      <td>2900</td>\n",
       "      <td>0.0</td>\n",
       "      <td>71.0</td>\n",
       "      <td>360.0</td>\n",
       "      <td>1.0</td>\n",
       "      <td>Y</td>\n",
       "      <td>1</td>\n",
       "      <td>0</td>\n",
       "      <td>0</td>\n",
       "      <td>1</td>\n",
       "      <td>0</td>\n",
       "      <td>1</td>\n",
       "      <td>0</td>\n",
       "    </tr>\n",
       "    <tr>\n",
       "      <th>610</th>\n",
       "      <td>LP002979</td>\n",
       "      <td>Male</td>\n",
       "      <td>Yes</td>\n",
       "      <td>3</td>\n",
       "      <td>Graduate</td>\n",
       "      <td>No</td>\n",
       "      <td>4106</td>\n",
       "      <td>0.0</td>\n",
       "      <td>40.0</td>\n",
       "      <td>180.0</td>\n",
       "      <td>1.0</td>\n",
       "      <td>Y</td>\n",
       "      <td>1</td>\n",
       "      <td>0</td>\n",
       "      <td>0</td>\n",
       "      <td>0</td>\n",
       "      <td>1</td>\n",
       "      <td>1</td>\n",
       "      <td>0</td>\n",
       "    </tr>\n",
       "    <tr>\n",
       "      <th>611</th>\n",
       "      <td>LP002983</td>\n",
       "      <td>Male</td>\n",
       "      <td>Yes</td>\n",
       "      <td>1</td>\n",
       "      <td>Graduate</td>\n",
       "      <td>No</td>\n",
       "      <td>8072</td>\n",
       "      <td>240.0</td>\n",
       "      <td>253.0</td>\n",
       "      <td>360.0</td>\n",
       "      <td>1.0</td>\n",
       "      <td>Y</td>\n",
       "      <td>0</td>\n",
       "      <td>0</td>\n",
       "      <td>1</td>\n",
       "      <td>0</td>\n",
       "      <td>1</td>\n",
       "      <td>1</td>\n",
       "      <td>0</td>\n",
       "    </tr>\n",
       "    <tr>\n",
       "      <th>612</th>\n",
       "      <td>LP002984</td>\n",
       "      <td>Male</td>\n",
       "      <td>Yes</td>\n",
       "      <td>2</td>\n",
       "      <td>Graduate</td>\n",
       "      <td>No</td>\n",
       "      <td>7583</td>\n",
       "      <td>0.0</td>\n",
       "      <td>187.0</td>\n",
       "      <td>360.0</td>\n",
       "      <td>1.0</td>\n",
       "      <td>Y</td>\n",
       "      <td>0</td>\n",
       "      <td>0</td>\n",
       "      <td>1</td>\n",
       "      <td>0</td>\n",
       "      <td>1</td>\n",
       "      <td>1</td>\n",
       "      <td>0</td>\n",
       "    </tr>\n",
       "    <tr>\n",
       "      <th>613</th>\n",
       "      <td>LP002990</td>\n",
       "      <td>Female</td>\n",
       "      <td>No</td>\n",
       "      <td>0</td>\n",
       "      <td>Graduate</td>\n",
       "      <td>Yes</td>\n",
       "      <td>4583</td>\n",
       "      <td>0.0</td>\n",
       "      <td>133.0</td>\n",
       "      <td>360.0</td>\n",
       "      <td>0.0</td>\n",
       "      <td>N</td>\n",
       "      <td>0</td>\n",
       "      <td>1</td>\n",
       "      <td>0</td>\n",
       "      <td>1</td>\n",
       "      <td>0</td>\n",
       "      <td>1</td>\n",
       "      <td>0</td>\n",
       "    </tr>\n",
       "  </tbody>\n",
       "</table>\n",
       "<p>563 rows × 19 columns</p>\n",
       "</div>"
      ],
      "text/plain": [
       "      Loan_ID  Gender Married Dependents     Education Self_Employed  \\\n",
       "1    LP001003    Male     Yes          1      Graduate            No   \n",
       "2    LP001005    Male     Yes          0      Graduate           Yes   \n",
       "3    LP001006    Male     Yes          0  Not Graduate            No   \n",
       "4    LP001008    Male      No          0      Graduate            No   \n",
       "5    LP001011    Male     Yes          2      Graduate           Yes   \n",
       "..        ...     ...     ...        ...           ...           ...   \n",
       "609  LP002978  Female      No          0      Graduate            No   \n",
       "610  LP002979    Male     Yes          3      Graduate            No   \n",
       "611  LP002983    Male     Yes          1      Graduate            No   \n",
       "612  LP002984    Male     Yes          2      Graduate            No   \n",
       "613  LP002990  Female      No          0      Graduate           Yes   \n",
       "\n",
       "     ApplicantIncome  CoapplicantIncome  LoanAmount  Loan_Amount_Term  \\\n",
       "1               4583             1508.0       128.0             360.0   \n",
       "2               3000                0.0        66.0             360.0   \n",
       "3               2583             2358.0       120.0             360.0   \n",
       "4               6000                0.0       141.0             360.0   \n",
       "5               5417             4196.0       267.0             360.0   \n",
       "..               ...                ...         ...               ...   \n",
       "609             2900                0.0        71.0             360.0   \n",
       "610             4106                0.0        40.0             180.0   \n",
       "611             8072              240.0       253.0             360.0   \n",
       "612             7583                0.0       187.0             360.0   \n",
       "613             4583                0.0       133.0             360.0   \n",
       "\n",
       "     Credit_History Loan_Status  Property_Area_Rural  Property_Area_Semiurban  \\\n",
       "1               1.0           N                    1                        0   \n",
       "2               1.0           Y                    0                        0   \n",
       "3               1.0           Y                    0                        0   \n",
       "4               1.0           Y                    0                        0   \n",
       "5               1.0           Y                    0                        0   \n",
       "..              ...         ...                  ...                      ...   \n",
       "609             1.0           Y                    1                        0   \n",
       "610             1.0           Y                    1                        0   \n",
       "611             1.0           Y                    0                        0   \n",
       "612             1.0           Y                    0                        0   \n",
       "613             0.0           N                    0                        1   \n",
       "\n",
       "     Property_Area_Urban  gender_Female  gender_Male  Education_Graduate  \\\n",
       "1                      0              0            1                   1   \n",
       "2                      1              0            1                   1   \n",
       "3                      1              0            1                   0   \n",
       "4                      1              0            1                   1   \n",
       "5                      1              0            1                   1   \n",
       "..                   ...            ...          ...                 ...   \n",
       "609                    0              1            0                   1   \n",
       "610                    0              0            1                   1   \n",
       "611                    1              0            1                   1   \n",
       "612                    1              0            1                   1   \n",
       "613                    0              1            0                   1   \n",
       "\n",
       "     Education_Not Graduate  \n",
       "1                         0  \n",
       "2                         0  \n",
       "3                         1  \n",
       "4                         0  \n",
       "5                         0  \n",
       "..                      ...  \n",
       "609                       0  \n",
       "610                       0  \n",
       "611                       0  \n",
       "612                       0  \n",
       "613                       0  \n",
       "\n",
       "[563 rows x 19 columns]"
      ]
     },
     "execution_count": 60,
     "metadata": {},
     "output_type": "execute_result"
    }
   ],
   "source": [
    "dummy1=pd.get_dummies(df['Gender'],prefix='gender')\n",
    "df=pd.concat([df,dummy1],1)\n",
    "dummy2=pd.get_dummies(df['Education'],prefix='Education')\n",
    "df=pd.concat([df,dummy2],1)\n",
    "df"
   ]
  },
  {
   "cell_type": "code",
   "execution_count": 61,
   "id": "3841453f",
   "metadata": {},
   "outputs": [],
   "source": [
    "#dropping the original columns after dummy variable creation\n",
    "d_col=['Gender','Education','Loan_ID']\n",
    "df.drop(d_col,axis=1,inplace=True)"
   ]
  },
  {
   "cell_type": "code",
   "execution_count": 62,
   "id": "ab1bc35c",
   "metadata": {},
   "outputs": [],
   "source": [
    "v =  ['Loan_Status']\n",
    "\n",
    "# Defining the map function\n",
    "def binary_map(x):\n",
    "    return x.map({'Y': 1, \"N\": 0})\n",
    "\n",
    "# Applying the function to the housing list\n",
    "df[v] = df[v].apply(binary_map)"
   ]
  },
  {
   "cell_type": "code",
   "execution_count": 63,
   "id": "00f37e9e",
   "metadata": {},
   "outputs": [],
   "source": [
    "varlist =  ['Married','Self_Employed']\n",
    "\n",
    "# Defining the map function\n",
    "def binary_map(x):\n",
    "    return x.map({'Yes': 1, \"No\": 0})\n",
    "\n",
    "# Applying the function to the housing list\n",
    "df[varlist] = df[varlist].apply(binary_map)"
   ]
  },
  {
   "cell_type": "code",
   "execution_count": 64,
   "id": "fbc7668c",
   "metadata": {},
   "outputs": [
    {
     "data": {
      "text/html": [
       "<div>\n",
       "<style scoped>\n",
       "    .dataframe tbody tr th:only-of-type {\n",
       "        vertical-align: middle;\n",
       "    }\n",
       "\n",
       "    .dataframe tbody tr th {\n",
       "        vertical-align: top;\n",
       "    }\n",
       "\n",
       "    .dataframe thead th {\n",
       "        text-align: right;\n",
       "    }\n",
       "</style>\n",
       "<table border=\"1\" class=\"dataframe\">\n",
       "  <thead>\n",
       "    <tr style=\"text-align: right;\">\n",
       "      <th></th>\n",
       "      <th>Married</th>\n",
       "      <th>Dependents</th>\n",
       "      <th>Self_Employed</th>\n",
       "      <th>ApplicantIncome</th>\n",
       "      <th>CoapplicantIncome</th>\n",
       "      <th>LoanAmount</th>\n",
       "      <th>Loan_Amount_Term</th>\n",
       "      <th>Credit_History</th>\n",
       "      <th>Loan_Status</th>\n",
       "      <th>Property_Area_Rural</th>\n",
       "      <th>Property_Area_Semiurban</th>\n",
       "      <th>Property_Area_Urban</th>\n",
       "      <th>gender_Female</th>\n",
       "      <th>gender_Male</th>\n",
       "      <th>Education_Graduate</th>\n",
       "      <th>Education_Not Graduate</th>\n",
       "    </tr>\n",
       "  </thead>\n",
       "  <tbody>\n",
       "    <tr>\n",
       "      <th>1</th>\n",
       "      <td>1</td>\n",
       "      <td>1</td>\n",
       "      <td>0</td>\n",
       "      <td>4583</td>\n",
       "      <td>1508.0</td>\n",
       "      <td>128.0</td>\n",
       "      <td>360.0</td>\n",
       "      <td>1.0</td>\n",
       "      <td>0</td>\n",
       "      <td>1</td>\n",
       "      <td>0</td>\n",
       "      <td>0</td>\n",
       "      <td>0</td>\n",
       "      <td>1</td>\n",
       "      <td>1</td>\n",
       "      <td>0</td>\n",
       "    </tr>\n",
       "    <tr>\n",
       "      <th>2</th>\n",
       "      <td>1</td>\n",
       "      <td>0</td>\n",
       "      <td>1</td>\n",
       "      <td>3000</td>\n",
       "      <td>0.0</td>\n",
       "      <td>66.0</td>\n",
       "      <td>360.0</td>\n",
       "      <td>1.0</td>\n",
       "      <td>1</td>\n",
       "      <td>0</td>\n",
       "      <td>0</td>\n",
       "      <td>1</td>\n",
       "      <td>0</td>\n",
       "      <td>1</td>\n",
       "      <td>1</td>\n",
       "      <td>0</td>\n",
       "    </tr>\n",
       "    <tr>\n",
       "      <th>3</th>\n",
       "      <td>1</td>\n",
       "      <td>0</td>\n",
       "      <td>0</td>\n",
       "      <td>2583</td>\n",
       "      <td>2358.0</td>\n",
       "      <td>120.0</td>\n",
       "      <td>360.0</td>\n",
       "      <td>1.0</td>\n",
       "      <td>1</td>\n",
       "      <td>0</td>\n",
       "      <td>0</td>\n",
       "      <td>1</td>\n",
       "      <td>0</td>\n",
       "      <td>1</td>\n",
       "      <td>0</td>\n",
       "      <td>1</td>\n",
       "    </tr>\n",
       "    <tr>\n",
       "      <th>4</th>\n",
       "      <td>0</td>\n",
       "      <td>0</td>\n",
       "      <td>0</td>\n",
       "      <td>6000</td>\n",
       "      <td>0.0</td>\n",
       "      <td>141.0</td>\n",
       "      <td>360.0</td>\n",
       "      <td>1.0</td>\n",
       "      <td>1</td>\n",
       "      <td>0</td>\n",
       "      <td>0</td>\n",
       "      <td>1</td>\n",
       "      <td>0</td>\n",
       "      <td>1</td>\n",
       "      <td>1</td>\n",
       "      <td>0</td>\n",
       "    </tr>\n",
       "    <tr>\n",
       "      <th>5</th>\n",
       "      <td>1</td>\n",
       "      <td>2</td>\n",
       "      <td>1</td>\n",
       "      <td>5417</td>\n",
       "      <td>4196.0</td>\n",
       "      <td>267.0</td>\n",
       "      <td>360.0</td>\n",
       "      <td>1.0</td>\n",
       "      <td>1</td>\n",
       "      <td>0</td>\n",
       "      <td>0</td>\n",
       "      <td>1</td>\n",
       "      <td>0</td>\n",
       "      <td>1</td>\n",
       "      <td>1</td>\n",
       "      <td>0</td>\n",
       "    </tr>\n",
       "    <tr>\n",
       "      <th>...</th>\n",
       "      <td>...</td>\n",
       "      <td>...</td>\n",
       "      <td>...</td>\n",
       "      <td>...</td>\n",
       "      <td>...</td>\n",
       "      <td>...</td>\n",
       "      <td>...</td>\n",
       "      <td>...</td>\n",
       "      <td>...</td>\n",
       "      <td>...</td>\n",
       "      <td>...</td>\n",
       "      <td>...</td>\n",
       "      <td>...</td>\n",
       "      <td>...</td>\n",
       "      <td>...</td>\n",
       "      <td>...</td>\n",
       "    </tr>\n",
       "    <tr>\n",
       "      <th>609</th>\n",
       "      <td>0</td>\n",
       "      <td>0</td>\n",
       "      <td>0</td>\n",
       "      <td>2900</td>\n",
       "      <td>0.0</td>\n",
       "      <td>71.0</td>\n",
       "      <td>360.0</td>\n",
       "      <td>1.0</td>\n",
       "      <td>1</td>\n",
       "      <td>1</td>\n",
       "      <td>0</td>\n",
       "      <td>0</td>\n",
       "      <td>1</td>\n",
       "      <td>0</td>\n",
       "      <td>1</td>\n",
       "      <td>0</td>\n",
       "    </tr>\n",
       "    <tr>\n",
       "      <th>610</th>\n",
       "      <td>1</td>\n",
       "      <td>3</td>\n",
       "      <td>0</td>\n",
       "      <td>4106</td>\n",
       "      <td>0.0</td>\n",
       "      <td>40.0</td>\n",
       "      <td>180.0</td>\n",
       "      <td>1.0</td>\n",
       "      <td>1</td>\n",
       "      <td>1</td>\n",
       "      <td>0</td>\n",
       "      <td>0</td>\n",
       "      <td>0</td>\n",
       "      <td>1</td>\n",
       "      <td>1</td>\n",
       "      <td>0</td>\n",
       "    </tr>\n",
       "    <tr>\n",
       "      <th>611</th>\n",
       "      <td>1</td>\n",
       "      <td>1</td>\n",
       "      <td>0</td>\n",
       "      <td>8072</td>\n",
       "      <td>240.0</td>\n",
       "      <td>253.0</td>\n",
       "      <td>360.0</td>\n",
       "      <td>1.0</td>\n",
       "      <td>1</td>\n",
       "      <td>0</td>\n",
       "      <td>0</td>\n",
       "      <td>1</td>\n",
       "      <td>0</td>\n",
       "      <td>1</td>\n",
       "      <td>1</td>\n",
       "      <td>0</td>\n",
       "    </tr>\n",
       "    <tr>\n",
       "      <th>612</th>\n",
       "      <td>1</td>\n",
       "      <td>2</td>\n",
       "      <td>0</td>\n",
       "      <td>7583</td>\n",
       "      <td>0.0</td>\n",
       "      <td>187.0</td>\n",
       "      <td>360.0</td>\n",
       "      <td>1.0</td>\n",
       "      <td>1</td>\n",
       "      <td>0</td>\n",
       "      <td>0</td>\n",
       "      <td>1</td>\n",
       "      <td>0</td>\n",
       "      <td>1</td>\n",
       "      <td>1</td>\n",
       "      <td>0</td>\n",
       "    </tr>\n",
       "    <tr>\n",
       "      <th>613</th>\n",
       "      <td>0</td>\n",
       "      <td>0</td>\n",
       "      <td>1</td>\n",
       "      <td>4583</td>\n",
       "      <td>0.0</td>\n",
       "      <td>133.0</td>\n",
       "      <td>360.0</td>\n",
       "      <td>0.0</td>\n",
       "      <td>0</td>\n",
       "      <td>0</td>\n",
       "      <td>1</td>\n",
       "      <td>0</td>\n",
       "      <td>1</td>\n",
       "      <td>0</td>\n",
       "      <td>1</td>\n",
       "      <td>0</td>\n",
       "    </tr>\n",
       "  </tbody>\n",
       "</table>\n",
       "<p>563 rows × 16 columns</p>\n",
       "</div>"
      ],
      "text/plain": [
       "     Married Dependents  Self_Employed  ApplicantIncome  CoapplicantIncome  \\\n",
       "1          1          1              0             4583             1508.0   \n",
       "2          1          0              1             3000                0.0   \n",
       "3          1          0              0             2583             2358.0   \n",
       "4          0          0              0             6000                0.0   \n",
       "5          1          2              1             5417             4196.0   \n",
       "..       ...        ...            ...              ...                ...   \n",
       "609        0          0              0             2900                0.0   \n",
       "610        1          3              0             4106                0.0   \n",
       "611        1          1              0             8072              240.0   \n",
       "612        1          2              0             7583                0.0   \n",
       "613        0          0              1             4583                0.0   \n",
       "\n",
       "     LoanAmount  Loan_Amount_Term  Credit_History  Loan_Status  \\\n",
       "1         128.0             360.0             1.0            0   \n",
       "2          66.0             360.0             1.0            1   \n",
       "3         120.0             360.0             1.0            1   \n",
       "4         141.0             360.0             1.0            1   \n",
       "5         267.0             360.0             1.0            1   \n",
       "..          ...               ...             ...          ...   \n",
       "609        71.0             360.0             1.0            1   \n",
       "610        40.0             180.0             1.0            1   \n",
       "611       253.0             360.0             1.0            1   \n",
       "612       187.0             360.0             1.0            1   \n",
       "613       133.0             360.0             0.0            0   \n",
       "\n",
       "     Property_Area_Rural  Property_Area_Semiurban  Property_Area_Urban  \\\n",
       "1                      1                        0                    0   \n",
       "2                      0                        0                    1   \n",
       "3                      0                        0                    1   \n",
       "4                      0                        0                    1   \n",
       "5                      0                        0                    1   \n",
       "..                   ...                      ...                  ...   \n",
       "609                    1                        0                    0   \n",
       "610                    1                        0                    0   \n",
       "611                    0                        0                    1   \n",
       "612                    0                        0                    1   \n",
       "613                    0                        1                    0   \n",
       "\n",
       "     gender_Female  gender_Male  Education_Graduate  Education_Not Graduate  \n",
       "1                0            1                   1                       0  \n",
       "2                0            1                   1                       0  \n",
       "3                0            1                   0                       1  \n",
       "4                0            1                   1                       0  \n",
       "5                0            1                   1                       0  \n",
       "..             ...          ...                 ...                     ...  \n",
       "609              1            0                   1                       0  \n",
       "610              0            1                   1                       0  \n",
       "611              0            1                   1                       0  \n",
       "612              0            1                   1                       0  \n",
       "613              1            0                   1                       0  \n",
       "\n",
       "[563 rows x 16 columns]"
      ]
     },
     "execution_count": 64,
     "metadata": {},
     "output_type": "execute_result"
    }
   ],
   "source": [
    "df"
   ]
  },
  {
   "cell_type": "code",
   "execution_count": 65,
   "id": "b48e17cc",
   "metadata": {},
   "outputs": [
    {
     "name": "stdout",
     "output_type": "stream",
     "text": [
      "<class 'pandas.core.frame.DataFrame'>\n",
      "Int64Index: 563 entries, 1 to 613\n",
      "Data columns (total 16 columns):\n",
      " #   Column                   Non-Null Count  Dtype  \n",
      "---  ------                   --------------  -----  \n",
      " 0   Married                  563 non-null    int64  \n",
      " 1   Dependents               563 non-null    object \n",
      " 2   Self_Employed            563 non-null    int64  \n",
      " 3   ApplicantIncome          563 non-null    int64  \n",
      " 4   CoapplicantIncome        563 non-null    float64\n",
      " 5   LoanAmount               563 non-null    float64\n",
      " 6   Loan_Amount_Term         563 non-null    float64\n",
      " 7   Credit_History           563 non-null    float64\n",
      " 8   Loan_Status              563 non-null    int64  \n",
      " 9   Property_Area_Rural      563 non-null    uint8  \n",
      " 10  Property_Area_Semiurban  563 non-null    uint8  \n",
      " 11  Property_Area_Urban      563 non-null    uint8  \n",
      " 12  gender_Female            563 non-null    uint8  \n",
      " 13  gender_Male              563 non-null    uint8  \n",
      " 14  Education_Graduate       563 non-null    uint8  \n",
      " 15  Education_Not Graduate   563 non-null    uint8  \n",
      "dtypes: float64(4), int64(4), object(1), uint8(7)\n",
      "memory usage: 64.0+ KB\n"
     ]
    }
   ],
   "source": [
    "df.info()"
   ]
  },
  {
   "cell_type": "code",
   "execution_count": 66,
   "id": "ff8bfd9e",
   "metadata": {},
   "outputs": [],
   "source": [
    "df['Dependents']=pd.to_numeric(df['Dependents'])\n",
    "df['Credit_History']=pd.to_numeric(df['Credit_History'])"
   ]
  },
  {
   "cell_type": "markdown",
   "id": "2735a20e",
   "metadata": {},
   "source": [
    "# Train-Test-Split"
   ]
  },
  {
   "cell_type": "code",
   "execution_count": 67,
   "id": "8d5db9a0",
   "metadata": {},
   "outputs": [],
   "source": [
    "from sklearn.model_selection import train_test_split\n",
    "\n",
    "y = df['Loan_Status']\n",
    "X = df.drop('Loan_Status',axis=1)"
   ]
  },
  {
   "cell_type": "code",
   "execution_count": 68,
   "id": "f6c3eafd",
   "metadata": {},
   "outputs": [],
   "source": [
    "# Splitting the data into train and test\n",
    "X_train,X_test,y_train,y_test=train_test_split(X,y,train_size=.7,random_state=50)"
   ]
  },
  {
   "cell_type": "code",
   "execution_count": 69,
   "id": "485ecf53",
   "metadata": {},
   "outputs": [
    {
     "name": "stdout",
     "output_type": "stream",
     "text": [
      "<class 'pandas.core.frame.DataFrame'>\n",
      "Int64Index: 394 entries, 34 to 521\n",
      "Data columns (total 15 columns):\n",
      " #   Column                   Non-Null Count  Dtype  \n",
      "---  ------                   --------------  -----  \n",
      " 0   Married                  394 non-null    int64  \n",
      " 1   Dependents               394 non-null    int64  \n",
      " 2   Self_Employed            394 non-null    int64  \n",
      " 3   ApplicantIncome          394 non-null    int64  \n",
      " 4   CoapplicantIncome        394 non-null    float64\n",
      " 5   LoanAmount               394 non-null    float64\n",
      " 6   Loan_Amount_Term         394 non-null    float64\n",
      " 7   Credit_History           394 non-null    float64\n",
      " 8   Property_Area_Rural      394 non-null    uint8  \n",
      " 9   Property_Area_Semiurban  394 non-null    uint8  \n",
      " 10  Property_Area_Urban      394 non-null    uint8  \n",
      " 11  gender_Female            394 non-null    uint8  \n",
      " 12  gender_Male              394 non-null    uint8  \n",
      " 13  Education_Graduate       394 non-null    uint8  \n",
      " 14  Education_Not Graduate   394 non-null    uint8  \n",
      "dtypes: float64(4), int64(4), uint8(7)\n",
      "memory usage: 30.4 KB\n"
     ]
    }
   ],
   "source": [
    "X_train.info()"
   ]
  },
  {
   "cell_type": "markdown",
   "id": "26ae61c4",
   "metadata": {},
   "source": [
    "### Feature scaling"
   ]
  },
  {
   "cell_type": "code",
   "execution_count": 70,
   "id": "7bce0337",
   "metadata": {},
   "outputs": [],
   "source": [
    "from sklearn.preprocessing import StandardScaler\n",
    "Scaler = StandardScaler()\n"
   ]
  },
  {
   "cell_type": "code",
   "execution_count": 71,
   "id": "81a2fa7e",
   "metadata": {},
   "outputs": [
    {
     "data": {
      "text/plain": [
       "Index(['Married', 'Dependents', 'Self_Employed', 'ApplicantIncome',\n",
       "       'CoapplicantIncome', 'LoanAmount', 'Loan_Amount_Term',\n",
       "       'Credit_History'],\n",
       "      dtype='object')"
      ]
     },
     "execution_count": 71,
     "metadata": {},
     "output_type": "execute_result"
    }
   ],
   "source": [
    "num_cols =X_train.select_dtypes(include=['float64', 'int64']).columns\n",
    "num_cols"
   ]
  },
  {
   "cell_type": "code",
   "execution_count": 72,
   "id": "7cdd9cb4",
   "metadata": {},
   "outputs": [
    {
     "data": {
      "text/html": [
       "<div>\n",
       "<style scoped>\n",
       "    .dataframe tbody tr th:only-of-type {\n",
       "        vertical-align: middle;\n",
       "    }\n",
       "\n",
       "    .dataframe tbody tr th {\n",
       "        vertical-align: top;\n",
       "    }\n",
       "\n",
       "    .dataframe thead th {\n",
       "        text-align: right;\n",
       "    }\n",
       "</style>\n",
       "<table border=\"1\" class=\"dataframe\">\n",
       "  <thead>\n",
       "    <tr style=\"text-align: right;\">\n",
       "      <th></th>\n",
       "      <th>Married</th>\n",
       "      <th>Dependents</th>\n",
       "      <th>Self_Employed</th>\n",
       "      <th>ApplicantIncome</th>\n",
       "      <th>CoapplicantIncome</th>\n",
       "      <th>LoanAmount</th>\n",
       "      <th>Loan_Amount_Term</th>\n",
       "      <th>Credit_History</th>\n",
       "      <th>Property_Area_Rural</th>\n",
       "      <th>Property_Area_Semiurban</th>\n",
       "      <th>Property_Area_Urban</th>\n",
       "      <th>gender_Female</th>\n",
       "      <th>gender_Male</th>\n",
       "      <th>Education_Graduate</th>\n",
       "      <th>Education_Not Graduate</th>\n",
       "    </tr>\n",
       "  </thead>\n",
       "  <tbody>\n",
       "    <tr>\n",
       "      <th>34</th>\n",
       "      <td>-1.416910</td>\n",
       "      <td>2.208703</td>\n",
       "      <td>-0.402793</td>\n",
       "      <td>2.432051</td>\n",
       "      <td>0.918465</td>\n",
       "      <td>2.808206</td>\n",
       "      <td>0.311149</td>\n",
       "      <td>0.444487</td>\n",
       "      <td>1</td>\n",
       "      <td>0</td>\n",
       "      <td>0</td>\n",
       "      <td>0</td>\n",
       "      <td>1</td>\n",
       "      <td>1</td>\n",
       "      <td>0</td>\n",
       "    </tr>\n",
       "    <tr>\n",
       "      <th>390</th>\n",
       "      <td>-1.416910</td>\n",
       "      <td>2.208703</td>\n",
       "      <td>-0.402793</td>\n",
       "      <td>1.369937</td>\n",
       "      <td>-0.863334</td>\n",
       "      <td>0.695737</td>\n",
       "      <td>0.311149</td>\n",
       "      <td>0.444487</td>\n",
       "      <td>1</td>\n",
       "      <td>0</td>\n",
       "      <td>0</td>\n",
       "      <td>0</td>\n",
       "      <td>1</td>\n",
       "      <td>1</td>\n",
       "      <td>0</td>\n",
       "    </tr>\n",
       "    <tr>\n",
       "      <th>457</th>\n",
       "      <td>0.705761</td>\n",
       "      <td>-0.761362</td>\n",
       "      <td>-0.402793</td>\n",
       "      <td>-0.369661</td>\n",
       "      <td>0.662480</td>\n",
       "      <td>0.507962</td>\n",
       "      <td>0.311149</td>\n",
       "      <td>0.444487</td>\n",
       "      <td>0</td>\n",
       "      <td>0</td>\n",
       "      <td>1</td>\n",
       "      <td>0</td>\n",
       "      <td>1</td>\n",
       "      <td>1</td>\n",
       "      <td>0</td>\n",
       "    </tr>\n",
       "    <tr>\n",
       "      <th>295</th>\n",
       "      <td>0.705761</td>\n",
       "      <td>2.208703</td>\n",
       "      <td>-0.402793</td>\n",
       "      <td>-0.144045</td>\n",
       "      <td>-0.120918</td>\n",
       "      <td>-0.477857</td>\n",
       "      <td>0.311149</td>\n",
       "      <td>0.444487</td>\n",
       "      <td>0</td>\n",
       "      <td>0</td>\n",
       "      <td>1</td>\n",
       "      <td>0</td>\n",
       "      <td>1</td>\n",
       "      <td>1</td>\n",
       "      <td>0</td>\n",
       "    </tr>\n",
       "    <tr>\n",
       "      <th>482</th>\n",
       "      <td>0.705761</td>\n",
       "      <td>-0.761362</td>\n",
       "      <td>-0.402793</td>\n",
       "      <td>-0.887493</td>\n",
       "      <td>1.007555</td>\n",
       "      <td>-0.196195</td>\n",
       "      <td>0.311149</td>\n",
       "      <td>0.444487</td>\n",
       "      <td>0</td>\n",
       "      <td>1</td>\n",
       "      <td>0</td>\n",
       "      <td>0</td>\n",
       "      <td>1</td>\n",
       "      <td>1</td>\n",
       "      <td>0</td>\n",
       "    </tr>\n",
       "    <tr>\n",
       "      <th>...</th>\n",
       "      <td>...</td>\n",
       "      <td>...</td>\n",
       "      <td>...</td>\n",
       "      <td>...</td>\n",
       "      <td>...</td>\n",
       "      <td>...</td>\n",
       "      <td>...</td>\n",
       "      <td>...</td>\n",
       "      <td>...</td>\n",
       "      <td>...</td>\n",
       "      <td>...</td>\n",
       "      <td>...</td>\n",
       "      <td>...</td>\n",
       "      <td>...</td>\n",
       "      <td>...</td>\n",
       "    </tr>\n",
       "    <tr>\n",
       "      <th>75</th>\n",
       "      <td>-1.416910</td>\n",
       "      <td>-0.761362</td>\n",
       "      <td>-0.402793</td>\n",
       "      <td>-0.356277</td>\n",
       "      <td>-0.863334</td>\n",
       "      <td>-0.430914</td>\n",
       "      <td>2.188527</td>\n",
       "      <td>0.444487</td>\n",
       "      <td>0</td>\n",
       "      <td>0</td>\n",
       "      <td>1</td>\n",
       "      <td>0</td>\n",
       "      <td>1</td>\n",
       "      <td>1</td>\n",
       "      <td>0</td>\n",
       "    </tr>\n",
       "    <tr>\n",
       "      <th>148</th>\n",
       "      <td>-1.416910</td>\n",
       "      <td>-0.761362</td>\n",
       "      <td>-0.402793</td>\n",
       "      <td>1.635386</td>\n",
       "      <td>0.126158</td>\n",
       "      <td>1.321653</td>\n",
       "      <td>0.311149</td>\n",
       "      <td>0.444487</td>\n",
       "      <td>1</td>\n",
       "      <td>0</td>\n",
       "      <td>0</td>\n",
       "      <td>1</td>\n",
       "      <td>0</td>\n",
       "      <td>1</td>\n",
       "      <td>0</td>\n",
       "    </tr>\n",
       "    <tr>\n",
       "      <th>315</th>\n",
       "      <td>0.705761</td>\n",
       "      <td>0.228660</td>\n",
       "      <td>-0.402793</td>\n",
       "      <td>-0.468128</td>\n",
       "      <td>0.110716</td>\n",
       "      <td>-0.462209</td>\n",
       "      <td>-2.504917</td>\n",
       "      <td>0.444487</td>\n",
       "      <td>0</td>\n",
       "      <td>0</td>\n",
       "      <td>1</td>\n",
       "      <td>0</td>\n",
       "      <td>1</td>\n",
       "      <td>0</td>\n",
       "      <td>1</td>\n",
       "    </tr>\n",
       "    <tr>\n",
       "      <th>121</th>\n",
       "      <td>-1.416910</td>\n",
       "      <td>-0.761362</td>\n",
       "      <td>-0.402793</td>\n",
       "      <td>-0.223712</td>\n",
       "      <td>-0.863334</td>\n",
       "      <td>-1.510620</td>\n",
       "      <td>0.311149</td>\n",
       "      <td>0.444487</td>\n",
       "      <td>0</td>\n",
       "      <td>1</td>\n",
       "      <td>0</td>\n",
       "      <td>1</td>\n",
       "      <td>0</td>\n",
       "      <td>1</td>\n",
       "      <td>0</td>\n",
       "    </tr>\n",
       "    <tr>\n",
       "      <th>521</th>\n",
       "      <td>-1.416910</td>\n",
       "      <td>-0.761362</td>\n",
       "      <td>-0.402793</td>\n",
       "      <td>-0.754609</td>\n",
       "      <td>-0.863334</td>\n",
       "      <td>-1.338493</td>\n",
       "      <td>0.311149</td>\n",
       "      <td>0.444487</td>\n",
       "      <td>0</td>\n",
       "      <td>1</td>\n",
       "      <td>0</td>\n",
       "      <td>0</td>\n",
       "      <td>1</td>\n",
       "      <td>1</td>\n",
       "      <td>0</td>\n",
       "    </tr>\n",
       "  </tbody>\n",
       "</table>\n",
       "<p>394 rows × 15 columns</p>\n",
       "</div>"
      ],
      "text/plain": [
       "      Married  Dependents  Self_Employed  ApplicantIncome  CoapplicantIncome  \\\n",
       "34  -1.416910    2.208703      -0.402793         2.432051           0.918465   \n",
       "390 -1.416910    2.208703      -0.402793         1.369937          -0.863334   \n",
       "457  0.705761   -0.761362      -0.402793        -0.369661           0.662480   \n",
       "295  0.705761    2.208703      -0.402793        -0.144045          -0.120918   \n",
       "482  0.705761   -0.761362      -0.402793        -0.887493           1.007555   \n",
       "..        ...         ...            ...              ...                ...   \n",
       "75  -1.416910   -0.761362      -0.402793        -0.356277          -0.863334   \n",
       "148 -1.416910   -0.761362      -0.402793         1.635386           0.126158   \n",
       "315  0.705761    0.228660      -0.402793        -0.468128           0.110716   \n",
       "121 -1.416910   -0.761362      -0.402793        -0.223712          -0.863334   \n",
       "521 -1.416910   -0.761362      -0.402793        -0.754609          -0.863334   \n",
       "\n",
       "     LoanAmount  Loan_Amount_Term  Credit_History  Property_Area_Rural  \\\n",
       "34     2.808206          0.311149        0.444487                    1   \n",
       "390    0.695737          0.311149        0.444487                    1   \n",
       "457    0.507962          0.311149        0.444487                    0   \n",
       "295   -0.477857          0.311149        0.444487                    0   \n",
       "482   -0.196195          0.311149        0.444487                    0   \n",
       "..          ...               ...             ...                  ...   \n",
       "75    -0.430914          2.188527        0.444487                    0   \n",
       "148    1.321653          0.311149        0.444487                    1   \n",
       "315   -0.462209         -2.504917        0.444487                    0   \n",
       "121   -1.510620          0.311149        0.444487                    0   \n",
       "521   -1.338493          0.311149        0.444487                    0   \n",
       "\n",
       "     Property_Area_Semiurban  Property_Area_Urban  gender_Female  gender_Male  \\\n",
       "34                         0                    0              0            1   \n",
       "390                        0                    0              0            1   \n",
       "457                        0                    1              0            1   \n",
       "295                        0                    1              0            1   \n",
       "482                        1                    0              0            1   \n",
       "..                       ...                  ...            ...          ...   \n",
       "75                         0                    1              0            1   \n",
       "148                        0                    0              1            0   \n",
       "315                        0                    1              0            1   \n",
       "121                        1                    0              1            0   \n",
       "521                        1                    0              0            1   \n",
       "\n",
       "     Education_Graduate  Education_Not Graduate  \n",
       "34                    1                       0  \n",
       "390                   1                       0  \n",
       "457                   1                       0  \n",
       "295                   1                       0  \n",
       "482                   1                       0  \n",
       "..                  ...                     ...  \n",
       "75                    1                       0  \n",
       "148                   1                       0  \n",
       "315                   0                       1  \n",
       "121                   1                       0  \n",
       "521                   1                       0  \n",
       "\n",
       "[394 rows x 15 columns]"
      ]
     },
     "execution_count": 72,
     "metadata": {},
     "output_type": "execute_result"
    }
   ],
   "source": [
    "X_train[num_cols] = Scaler.fit_transform(X_train[num_cols])\n",
    "X_train"
   ]
  },
  {
   "cell_type": "code",
   "execution_count": 73,
   "id": "a1506baa",
   "metadata": {
    "scrolled": true
   },
   "outputs": [
    {
     "name": "stdout",
     "output_type": "stream",
     "text": [
      "<class 'pandas.core.frame.DataFrame'>\n",
      "Int64Index: 394 entries, 34 to 521\n",
      "Data columns (total 15 columns):\n",
      " #   Column                   Non-Null Count  Dtype  \n",
      "---  ------                   --------------  -----  \n",
      " 0   Married                  394 non-null    float64\n",
      " 1   Dependents               394 non-null    float64\n",
      " 2   Self_Employed            394 non-null    float64\n",
      " 3   ApplicantIncome          394 non-null    float64\n",
      " 4   CoapplicantIncome        394 non-null    float64\n",
      " 5   LoanAmount               394 non-null    float64\n",
      " 6   Loan_Amount_Term         394 non-null    float64\n",
      " 7   Credit_History           394 non-null    float64\n",
      " 8   Property_Area_Rural      394 non-null    uint8  \n",
      " 9   Property_Area_Semiurban  394 non-null    uint8  \n",
      " 10  Property_Area_Urban      394 non-null    uint8  \n",
      " 11  gender_Female            394 non-null    uint8  \n",
      " 12  gender_Male              394 non-null    uint8  \n",
      " 13  Education_Graduate       394 non-null    uint8  \n",
      " 14  Education_Not Graduate   394 non-null    uint8  \n",
      "dtypes: float64(8), uint8(7)\n",
      "memory usage: 30.4 KB\n"
     ]
    }
   ],
   "source": [
    "X_train.info()"
   ]
  },
  {
   "cell_type": "code",
   "execution_count": 74,
   "id": "f5b5be0d",
   "metadata": {},
   "outputs": [
    {
     "data": {
      "text/plain": [
       "Married                    0\n",
       "Dependents                 0\n",
       "Self_Employed              0\n",
       "ApplicantIncome            0\n",
       "CoapplicantIncome          0\n",
       "LoanAmount                 0\n",
       "Loan_Amount_Term           0\n",
       "Credit_History             0\n",
       "Property_Area_Rural        0\n",
       "Property_Area_Semiurban    0\n",
       "Property_Area_Urban        0\n",
       "gender_Female              0\n",
       "gender_Male                0\n",
       "Education_Graduate         0\n",
       "Education_Not Graduate     0\n",
       "dtype: int64"
      ]
     },
     "execution_count": 74,
     "metadata": {},
     "output_type": "execute_result"
    }
   ],
   "source": [
    "X_train.isnull().sum()"
   ]
  },
  {
   "cell_type": "code",
   "execution_count": 75,
   "id": "376a7ac1",
   "metadata": {},
   "outputs": [],
   "source": [
    "import statsmodels.api as sm\n",
    "from sklearn.linear_model import LogisticRegression\n",
    "logreg= LogisticRegression()\n"
   ]
  },
  {
   "cell_type": "code",
   "execution_count": 76,
   "id": "8db5482f",
   "metadata": {},
   "outputs": [],
   "source": [
    "from sklearn.feature_selection import RFE\n",
    "rfe = RFE(logreg,15)             # running RFE with 15 variables as output15\n",
    "rfe = rfe.fit(X_train,y_train)"
   ]
  },
  {
   "cell_type": "code",
   "execution_count": 77,
   "id": "0f714442",
   "metadata": {},
   "outputs": [
    {
     "data": {
      "text/plain": [
       "Index(['Married', 'Dependents', 'Self_Employed', 'ApplicantIncome',\n",
       "       'CoapplicantIncome', 'LoanAmount', 'Loan_Amount_Term', 'Credit_History',\n",
       "       'Property_Area_Rural', 'Property_Area_Semiurban', 'Property_Area_Urban',\n",
       "       'gender_Female', 'gender_Male', 'Education_Graduate',\n",
       "       'Education_Not Graduate'],\n",
       "      dtype='object')"
      ]
     },
     "execution_count": 77,
     "metadata": {},
     "output_type": "execute_result"
    }
   ],
   "source": [
    "col = X_train.columns[rfe.support_]\n",
    "col"
   ]
  },
  {
   "cell_type": "code",
   "execution_count": 78,
   "id": "6a066c8e",
   "metadata": {},
   "outputs": [
    {
     "data": {
      "text/html": [
       "<table class=\"simpletable\">\n",
       "<caption>Generalized Linear Model Regression Results</caption>\n",
       "<tr>\n",
       "  <th>Dep. Variable:</th>      <td>Loan_Status</td>   <th>  No. Observations:  </th>  <td>   394</td> \n",
       "</tr>\n",
       "<tr>\n",
       "  <th>Model:</th>                  <td>GLM</td>       <th>  Df Residuals:      </th>  <td>   381</td> \n",
       "</tr>\n",
       "<tr>\n",
       "  <th>Model Family:</th>        <td>Binomial</td>     <th>  Df Model:          </th>  <td>    12</td> \n",
       "</tr>\n",
       "<tr>\n",
       "  <th>Link Function:</th>         <td>logit</td>      <th>  Scale:             </th> <td>  1.0000</td>\n",
       "</tr>\n",
       "<tr>\n",
       "  <th>Method:</th>                <td>IRLS</td>       <th>  Log-Likelihood:    </th> <td> -180.60</td>\n",
       "</tr>\n",
       "<tr>\n",
       "  <th>Date:</th>            <td>Sat, 23 Apr 2022</td> <th>  Deviance:          </th> <td>  361.20</td>\n",
       "</tr>\n",
       "<tr>\n",
       "  <th>Time:</th>                <td>10:30:46</td>     <th>  Pearson chi2:      </th>  <td>  395.</td> \n",
       "</tr>\n",
       "<tr>\n",
       "  <th>No. Iterations:</th>         <td>100</td>       <th>                     </th>     <td> </td>   \n",
       "</tr>\n",
       "<tr>\n",
       "  <th>Covariance Type:</th>     <td>nonrobust</td>    <th>                     </th>     <td> </td>   \n",
       "</tr>\n",
       "</table>\n",
       "<table class=\"simpletable\">\n",
       "<tr>\n",
       "             <td></td>                <th>coef</th>     <th>std err</th>      <th>z</th>      <th>P>|z|</th>  <th>[0.025</th>    <th>0.975]</th>  \n",
       "</tr>\n",
       "<tr>\n",
       "  <th>const</th>                   <td>    0.3987</td> <td>    0.089</td> <td>    4.457</td> <td> 0.000</td> <td>    0.223</td> <td>    0.574</td>\n",
       "</tr>\n",
       "<tr>\n",
       "  <th>Married</th>                 <td>    0.2617</td> <td>    0.154</td> <td>    1.696</td> <td> 0.090</td> <td>   -0.041</td> <td>    0.564</td>\n",
       "</tr>\n",
       "<tr>\n",
       "  <th>Dependents</th>              <td>    0.0565</td> <td>    0.150</td> <td>    0.376</td> <td> 0.707</td> <td>   -0.238</td> <td>    0.351</td>\n",
       "</tr>\n",
       "<tr>\n",
       "  <th>Self_Employed</th>           <td>   -0.0494</td> <td>    0.142</td> <td>   -0.349</td> <td> 0.727</td> <td>   -0.327</td> <td>    0.228</td>\n",
       "</tr>\n",
       "<tr>\n",
       "  <th>ApplicantIncome</th>         <td>    0.1215</td> <td>    0.198</td> <td>    0.613</td> <td> 0.540</td> <td>   -0.267</td> <td>    0.510</td>\n",
       "</tr>\n",
       "<tr>\n",
       "  <th>CoapplicantIncome</th>       <td>    0.0668</td> <td>    0.168</td> <td>    0.397</td> <td> 0.691</td> <td>   -0.263</td> <td>    0.396</td>\n",
       "</tr>\n",
       "<tr>\n",
       "  <th>LoanAmount</th>              <td>   -0.1924</td> <td>    0.192</td> <td>   -1.002</td> <td> 0.316</td> <td>   -0.569</td> <td>    0.184</td>\n",
       "</tr>\n",
       "<tr>\n",
       "  <th>Loan_Amount_Term</th>        <td>    0.0200</td> <td>    0.140</td> <td>    0.143</td> <td> 0.886</td> <td>   -0.254</td> <td>    0.294</td>\n",
       "</tr>\n",
       "<tr>\n",
       "  <th>Credit_History</th>          <td>    1.2376</td> <td>    0.141</td> <td>    8.759</td> <td> 0.000</td> <td>    0.961</td> <td>    1.514</td>\n",
       "</tr>\n",
       "<tr>\n",
       "  <th>Property_Area_Rural</th>     <td>   -0.1257</td> <td>    0.192</td> <td>   -0.654</td> <td> 0.513</td> <td>   -0.502</td> <td>    0.251</td>\n",
       "</tr>\n",
       "<tr>\n",
       "  <th>Property_Area_Semiurban</th> <td>    0.5161</td> <td>    0.196</td> <td>    2.628</td> <td> 0.009</td> <td>    0.131</td> <td>    0.901</td>\n",
       "</tr>\n",
       "<tr>\n",
       "  <th>Property_Area_Urban</th>     <td>    0.0083</td> <td>    0.202</td> <td>    0.041</td> <td> 0.967</td> <td>   -0.388</td> <td>    0.405</td>\n",
       "</tr>\n",
       "<tr>\n",
       "  <th>gender_Female</th>           <td>    0.2332</td> <td>    0.225</td> <td>    1.034</td> <td> 0.301</td> <td>   -0.209</td> <td>    0.675</td>\n",
       "</tr>\n",
       "<tr>\n",
       "  <th>gender_Male</th>             <td>    0.1655</td> <td>    0.169</td> <td>    0.979</td> <td> 0.328</td> <td>   -0.166</td> <td>    0.497</td>\n",
       "</tr>\n",
       "<tr>\n",
       "  <th>Education_Graduate</th>      <td>    0.2294</td> <td>    0.150</td> <td>    1.530</td> <td> 0.126</td> <td>   -0.064</td> <td>    0.523</td>\n",
       "</tr>\n",
       "<tr>\n",
       "  <th>Education_Not Graduate</th>  <td>    0.1693</td> <td>    0.189</td> <td>    0.897</td> <td> 0.370</td> <td>   -0.200</td> <td>    0.539</td>\n",
       "</tr>\n",
       "</table>"
      ],
      "text/plain": [
       "<class 'statsmodels.iolib.summary.Summary'>\n",
       "\"\"\"\n",
       "                 Generalized Linear Model Regression Results                  \n",
       "==============================================================================\n",
       "Dep. Variable:            Loan_Status   No. Observations:                  394\n",
       "Model:                            GLM   Df Residuals:                      381\n",
       "Model Family:                Binomial   Df Model:                           12\n",
       "Link Function:                  logit   Scale:                          1.0000\n",
       "Method:                          IRLS   Log-Likelihood:                -180.60\n",
       "Date:                Sat, 23 Apr 2022   Deviance:                       361.20\n",
       "Time:                        10:30:46   Pearson chi2:                     395.\n",
       "No. Iterations:                   100                                         \n",
       "Covariance Type:            nonrobust                                         \n",
       "===========================================================================================\n",
       "                              coef    std err          z      P>|z|      [0.025      0.975]\n",
       "-------------------------------------------------------------------------------------------\n",
       "const                       0.3987      0.089      4.457      0.000       0.223       0.574\n",
       "Married                     0.2617      0.154      1.696      0.090      -0.041       0.564\n",
       "Dependents                  0.0565      0.150      0.376      0.707      -0.238       0.351\n",
       "Self_Employed              -0.0494      0.142     -0.349      0.727      -0.327       0.228\n",
       "ApplicantIncome             0.1215      0.198      0.613      0.540      -0.267       0.510\n",
       "CoapplicantIncome           0.0668      0.168      0.397      0.691      -0.263       0.396\n",
       "LoanAmount                 -0.1924      0.192     -1.002      0.316      -0.569       0.184\n",
       "Loan_Amount_Term            0.0200      0.140      0.143      0.886      -0.254       0.294\n",
       "Credit_History              1.2376      0.141      8.759      0.000       0.961       1.514\n",
       "Property_Area_Rural        -0.1257      0.192     -0.654      0.513      -0.502       0.251\n",
       "Property_Area_Semiurban     0.5161      0.196      2.628      0.009       0.131       0.901\n",
       "Property_Area_Urban         0.0083      0.202      0.041      0.967      -0.388       0.405\n",
       "gender_Female               0.2332      0.225      1.034      0.301      -0.209       0.675\n",
       "gender_Male                 0.1655      0.169      0.979      0.328      -0.166       0.497\n",
       "Education_Graduate          0.2294      0.150      1.530      0.126      -0.064       0.523\n",
       "Education_Not Graduate      0.1693      0.189      0.897      0.370      -0.200       0.539\n",
       "===========================================================================================\n",
       "\"\"\""
      ]
     },
     "execution_count": 78,
     "metadata": {},
     "output_type": "execute_result"
    }
   ],
   "source": [
    "#BUILDING MODEL #1\n",
    "\n",
    "X_train_sm = sm.add_constant(X_train[col])\n",
    "logm1 = sm.GLM(y_train,X_train_sm, family = sm.families.Binomial())\n",
    "res = logm1.fit()\n",
    "res.summary()"
   ]
  },
  {
   "cell_type": "code",
   "execution_count": 79,
   "id": "4181447e",
   "metadata": {},
   "outputs": [],
   "source": [
    "# Check for the VIF values of the feature variables. \n",
    "from statsmodels.stats.outliers_influence import variance_inflation_factor"
   ]
  },
  {
   "cell_type": "code",
   "execution_count": 80,
   "id": "0c535259",
   "metadata": {},
   "outputs": [
    {
     "data": {
      "text/html": [
       "<div>\n",
       "<style scoped>\n",
       "    .dataframe tbody tr th:only-of-type {\n",
       "        vertical-align: middle;\n",
       "    }\n",
       "\n",
       "    .dataframe tbody tr th {\n",
       "        vertical-align: top;\n",
       "    }\n",
       "\n",
       "    .dataframe thead th {\n",
       "        text-align: right;\n",
       "    }\n",
       "</style>\n",
       "<table border=\"1\" class=\"dataframe\">\n",
       "  <thead>\n",
       "    <tr style=\"text-align: right;\">\n",
       "      <th></th>\n",
       "      <th>Features</th>\n",
       "      <th>VIF</th>\n",
       "    </tr>\n",
       "  </thead>\n",
       "  <tbody>\n",
       "    <tr>\n",
       "      <th>8</th>\n",
       "      <td>Property_Area_Rural</td>\n",
       "      <td>inf</td>\n",
       "    </tr>\n",
       "    <tr>\n",
       "      <th>9</th>\n",
       "      <td>Property_Area_Semiurban</td>\n",
       "      <td>inf</td>\n",
       "    </tr>\n",
       "    <tr>\n",
       "      <th>10</th>\n",
       "      <td>Property_Area_Urban</td>\n",
       "      <td>inf</td>\n",
       "    </tr>\n",
       "    <tr>\n",
       "      <th>11</th>\n",
       "      <td>gender_Female</td>\n",
       "      <td>inf</td>\n",
       "    </tr>\n",
       "    <tr>\n",
       "      <th>12</th>\n",
       "      <td>gender_Male</td>\n",
       "      <td>inf</td>\n",
       "    </tr>\n",
       "    <tr>\n",
       "      <th>13</th>\n",
       "      <td>Education_Graduate</td>\n",
       "      <td>inf</td>\n",
       "    </tr>\n",
       "    <tr>\n",
       "      <th>14</th>\n",
       "      <td>Education_Not Graduate</td>\n",
       "      <td>inf</td>\n",
       "    </tr>\n",
       "    <tr>\n",
       "      <th>5</th>\n",
       "      <td>LoanAmount</td>\n",
       "      <td>1.93</td>\n",
       "    </tr>\n",
       "    <tr>\n",
       "      <th>3</th>\n",
       "      <td>ApplicantIncome</td>\n",
       "      <td>1.91</td>\n",
       "    </tr>\n",
       "    <tr>\n",
       "      <th>4</th>\n",
       "      <td>CoapplicantIncome</td>\n",
       "      <td>1.49</td>\n",
       "    </tr>\n",
       "    <tr>\n",
       "      <th>0</th>\n",
       "      <td>Married</td>\n",
       "      <td>1.34</td>\n",
       "    </tr>\n",
       "    <tr>\n",
       "      <th>1</th>\n",
       "      <td>Dependents</td>\n",
       "      <td>1.20</td>\n",
       "    </tr>\n",
       "    <tr>\n",
       "      <th>2</th>\n",
       "      <td>Self_Employed</td>\n",
       "      <td>1.12</td>\n",
       "    </tr>\n",
       "    <tr>\n",
       "      <th>6</th>\n",
       "      <td>Loan_Amount_Term</td>\n",
       "      <td>1.05</td>\n",
       "    </tr>\n",
       "    <tr>\n",
       "      <th>7</th>\n",
       "      <td>Credit_History</td>\n",
       "      <td>1.02</td>\n",
       "    </tr>\n",
       "  </tbody>\n",
       "</table>\n",
       "</div>"
      ],
      "text/plain": [
       "                   Features   VIF\n",
       "8       Property_Area_Rural   inf\n",
       "9   Property_Area_Semiurban   inf\n",
       "10      Property_Area_Urban   inf\n",
       "11            gender_Female   inf\n",
       "12              gender_Male   inf\n",
       "13       Education_Graduate   inf\n",
       "14   Education_Not Graduate   inf\n",
       "5                LoanAmount  1.93\n",
       "3           ApplicantIncome  1.91\n",
       "4         CoapplicantIncome  1.49\n",
       "0                   Married  1.34\n",
       "1                Dependents  1.20\n",
       "2             Self_Employed  1.12\n",
       "6          Loan_Amount_Term  1.05\n",
       "7            Credit_History  1.02"
      ]
     },
     "execution_count": 80,
     "metadata": {},
     "output_type": "execute_result"
    }
   ],
   "source": [
    "# Create a dataframe that will contain the names of all the feature variables and their respective VIFs\n",
    "vif = pd.DataFrame()\n",
    "vif['Features'] = X_train[col].columns\n",
    "vif['VIF'] = [variance_inflation_factor(X_train[col].values, i) for i in range(X_train[col].shape[1])]\n",
    "vif['VIF'] = round(vif['VIF'], 2)\n",
    "vif = vif.sort_values(by = \"VIF\", ascending = False)\n",
    "vif"
   ]
  },
  {
   "cell_type": "code",
   "execution_count": 81,
   "id": "a34ceac3",
   "metadata": {},
   "outputs": [],
   "source": [
    "col=col.drop('Property_Area_Rural',1)"
   ]
  },
  {
   "cell_type": "code",
   "execution_count": 82,
   "id": "b585b689",
   "metadata": {},
   "outputs": [
    {
     "data": {
      "text/html": [
       "<table class=\"simpletable\">\n",
       "<caption>Generalized Linear Model Regression Results</caption>\n",
       "<tr>\n",
       "  <th>Dep. Variable:</th>      <td>Loan_Status</td>   <th>  No. Observations:  </th>  <td>   394</td> \n",
       "</tr>\n",
       "<tr>\n",
       "  <th>Model:</th>                  <td>GLM</td>       <th>  Df Residuals:      </th>  <td>   381</td> \n",
       "</tr>\n",
       "<tr>\n",
       "  <th>Model Family:</th>        <td>Binomial</td>     <th>  Df Model:          </th>  <td>    12</td> \n",
       "</tr>\n",
       "<tr>\n",
       "  <th>Link Function:</th>         <td>logit</td>      <th>  Scale:             </th> <td>  1.0000</td>\n",
       "</tr>\n",
       "<tr>\n",
       "  <th>Method:</th>                <td>IRLS</td>       <th>  Log-Likelihood:    </th> <td> -180.60</td>\n",
       "</tr>\n",
       "<tr>\n",
       "  <th>Date:</th>            <td>Sat, 23 Apr 2022</td> <th>  Deviance:          </th> <td>  361.20</td>\n",
       "</tr>\n",
       "<tr>\n",
       "  <th>Time:</th>                <td>10:30:46</td>     <th>  Pearson chi2:      </th>  <td>  396.</td> \n",
       "</tr>\n",
       "<tr>\n",
       "  <th>No. Iterations:</th>         <td>85</td>        <th>                     </th>     <td> </td>   \n",
       "</tr>\n",
       "<tr>\n",
       "  <th>Covariance Type:</th>     <td>nonrobust</td>    <th>                     </th>     <td> </td>   \n",
       "</tr>\n",
       "</table>\n",
       "<table class=\"simpletable\">\n",
       "<tr>\n",
       "             <td></td>                <th>coef</th>     <th>std err</th>      <th>z</th>      <th>P>|z|</th>  <th>[0.025</th>    <th>0.975]</th>  \n",
       "</tr>\n",
       "<tr>\n",
       "  <th>const</th>                   <td>    0.3371</td> <td>    0.135</td> <td>    2.503</td> <td> 0.012</td> <td>    0.073</td> <td>    0.601</td>\n",
       "</tr>\n",
       "<tr>\n",
       "  <th>Married</th>                 <td>    0.2617</td> <td>    0.151</td> <td>    1.728</td> <td> 0.084</td> <td>   -0.035</td> <td>    0.558</td>\n",
       "</tr>\n",
       "<tr>\n",
       "  <th>Dependents</th>              <td>    0.0572</td> <td>    0.147</td> <td>    0.388</td> <td> 0.698</td> <td>   -0.232</td> <td>    0.346</td>\n",
       "</tr>\n",
       "<tr>\n",
       "  <th>Self_Employed</th>           <td>   -0.0506</td> <td>    0.141</td> <td>   -0.360</td> <td> 0.719</td> <td>   -0.326</td> <td>    0.225</td>\n",
       "</tr>\n",
       "<tr>\n",
       "  <th>ApplicantIncome</th>         <td>    0.1236</td> <td>    0.192</td> <td>    0.645</td> <td> 0.519</td> <td>   -0.252</td> <td>    0.499</td>\n",
       "</tr>\n",
       "<tr>\n",
       "  <th>CoapplicantIncome</th>       <td>    0.0673</td> <td>    0.165</td> <td>    0.409</td> <td> 0.682</td> <td>   -0.255</td> <td>    0.390</td>\n",
       "</tr>\n",
       "<tr>\n",
       "  <th>LoanAmount</th>              <td>   -0.1932</td> <td>    0.187</td> <td>   -1.034</td> <td> 0.301</td> <td>   -0.559</td> <td>    0.173</td>\n",
       "</tr>\n",
       "<tr>\n",
       "  <th>Loan_Amount_Term</th>        <td>    0.0202</td> <td>    0.137</td> <td>    0.147</td> <td> 0.883</td> <td>   -0.249</td> <td>    0.290</td>\n",
       "</tr>\n",
       "<tr>\n",
       "  <th>Credit_History</th>          <td>    1.2422</td> <td>    0.147</td> <td>    8.440</td> <td> 0.000</td> <td>    0.954</td> <td>    1.531</td>\n",
       "</tr>\n",
       "<tr>\n",
       "  <th>Property_Area_Semiurban</th> <td>    0.6412</td> <td>    0.327</td> <td>    1.960</td> <td> 0.050</td> <td>    0.000</td> <td>    1.282</td>\n",
       "</tr>\n",
       "<tr>\n",
       "  <th>Property_Area_Urban</th>     <td>    0.1334</td> <td>    0.330</td> <td>    0.404</td> <td> 0.686</td> <td>   -0.514</td> <td>    0.781</td>\n",
       "</tr>\n",
       "<tr>\n",
       "  <th>gender_Female</th>           <td>    0.2027</td> <td>    0.232</td> <td>    0.873</td> <td> 0.383</td> <td>   -0.252</td> <td>    0.658</td>\n",
       "</tr>\n",
       "<tr>\n",
       "  <th>gender_Male</th>             <td>    0.1344</td> <td>    0.168</td> <td>    0.800</td> <td> 0.424</td> <td>   -0.195</td> <td>    0.464</td>\n",
       "</tr>\n",
       "<tr>\n",
       "  <th>Education_Graduate</th>      <td>    0.1982</td> <td>    0.159</td> <td>    1.248</td> <td> 0.212</td> <td>   -0.113</td> <td>    0.510</td>\n",
       "</tr>\n",
       "<tr>\n",
       "  <th>Education_Not Graduate</th>  <td>    0.1389</td> <td>    0.190</td> <td>    0.729</td> <td> 0.466</td> <td>   -0.234</td> <td>    0.512</td>\n",
       "</tr>\n",
       "</table>"
      ],
      "text/plain": [
       "<class 'statsmodels.iolib.summary.Summary'>\n",
       "\"\"\"\n",
       "                 Generalized Linear Model Regression Results                  \n",
       "==============================================================================\n",
       "Dep. Variable:            Loan_Status   No. Observations:                  394\n",
       "Model:                            GLM   Df Residuals:                      381\n",
       "Model Family:                Binomial   Df Model:                           12\n",
       "Link Function:                  logit   Scale:                          1.0000\n",
       "Method:                          IRLS   Log-Likelihood:                -180.60\n",
       "Date:                Sat, 23 Apr 2022   Deviance:                       361.20\n",
       "Time:                        10:30:46   Pearson chi2:                     396.\n",
       "No. Iterations:                    85                                         \n",
       "Covariance Type:            nonrobust                                         \n",
       "===========================================================================================\n",
       "                              coef    std err          z      P>|z|      [0.025      0.975]\n",
       "-------------------------------------------------------------------------------------------\n",
       "const                       0.3371      0.135      2.503      0.012       0.073       0.601\n",
       "Married                     0.2617      0.151      1.728      0.084      -0.035       0.558\n",
       "Dependents                  0.0572      0.147      0.388      0.698      -0.232       0.346\n",
       "Self_Employed              -0.0506      0.141     -0.360      0.719      -0.326       0.225\n",
       "ApplicantIncome             0.1236      0.192      0.645      0.519      -0.252       0.499\n",
       "CoapplicantIncome           0.0673      0.165      0.409      0.682      -0.255       0.390\n",
       "LoanAmount                 -0.1932      0.187     -1.034      0.301      -0.559       0.173\n",
       "Loan_Amount_Term            0.0202      0.137      0.147      0.883      -0.249       0.290\n",
       "Credit_History              1.2422      0.147      8.440      0.000       0.954       1.531\n",
       "Property_Area_Semiurban     0.6412      0.327      1.960      0.050       0.000       1.282\n",
       "Property_Area_Urban         0.1334      0.330      0.404      0.686      -0.514       0.781\n",
       "gender_Female               0.2027      0.232      0.873      0.383      -0.252       0.658\n",
       "gender_Male                 0.1344      0.168      0.800      0.424      -0.195       0.464\n",
       "Education_Graduate          0.1982      0.159      1.248      0.212      -0.113       0.510\n",
       "Education_Not Graduate      0.1389      0.190      0.729      0.466      -0.234       0.512\n",
       "===========================================================================================\n",
       "\"\"\""
      ]
     },
     "execution_count": 82,
     "metadata": {},
     "output_type": "execute_result"
    }
   ],
   "source": [
    "#BUILDING MODEL #2\n",
    "X_train_sm = sm.add_constant(X_train[col])\n",
    "logm1 = sm.GLM(y_train,X_train_sm, family = sm.families.Binomial())\n",
    "res = logm1.fit()\n",
    "res.summary()"
   ]
  },
  {
   "cell_type": "code",
   "execution_count": 83,
   "id": "d380ae97",
   "metadata": {},
   "outputs": [
    {
     "data": {
      "text/html": [
       "<div>\n",
       "<style scoped>\n",
       "    .dataframe tbody tr th:only-of-type {\n",
       "        vertical-align: middle;\n",
       "    }\n",
       "\n",
       "    .dataframe tbody tr th {\n",
       "        vertical-align: top;\n",
       "    }\n",
       "\n",
       "    .dataframe thead th {\n",
       "        text-align: right;\n",
       "    }\n",
       "</style>\n",
       "<table border=\"1\" class=\"dataframe\">\n",
       "  <thead>\n",
       "    <tr style=\"text-align: right;\">\n",
       "      <th></th>\n",
       "      <th>Features</th>\n",
       "      <th>VIF</th>\n",
       "    </tr>\n",
       "  </thead>\n",
       "  <tbody>\n",
       "    <tr>\n",
       "      <th>10</th>\n",
       "      <td>gender_Female</td>\n",
       "      <td>inf</td>\n",
       "    </tr>\n",
       "    <tr>\n",
       "      <th>11</th>\n",
       "      <td>gender_Male</td>\n",
       "      <td>inf</td>\n",
       "    </tr>\n",
       "    <tr>\n",
       "      <th>12</th>\n",
       "      <td>Education_Graduate</td>\n",
       "      <td>inf</td>\n",
       "    </tr>\n",
       "    <tr>\n",
       "      <th>13</th>\n",
       "      <td>Education_Not Graduate</td>\n",
       "      <td>inf</td>\n",
       "    </tr>\n",
       "    <tr>\n",
       "      <th>5</th>\n",
       "      <td>LoanAmount</td>\n",
       "      <td>1.93</td>\n",
       "    </tr>\n",
       "    <tr>\n",
       "      <th>3</th>\n",
       "      <td>ApplicantIncome</td>\n",
       "      <td>1.91</td>\n",
       "    </tr>\n",
       "    <tr>\n",
       "      <th>4</th>\n",
       "      <td>CoapplicantIncome</td>\n",
       "      <td>1.49</td>\n",
       "    </tr>\n",
       "    <tr>\n",
       "      <th>8</th>\n",
       "      <td>Property_Area_Semiurban</td>\n",
       "      <td>1.41</td>\n",
       "    </tr>\n",
       "    <tr>\n",
       "      <th>9</th>\n",
       "      <td>Property_Area_Urban</td>\n",
       "      <td>1.41</td>\n",
       "    </tr>\n",
       "    <tr>\n",
       "      <th>0</th>\n",
       "      <td>Married</td>\n",
       "      <td>1.34</td>\n",
       "    </tr>\n",
       "    <tr>\n",
       "      <th>1</th>\n",
       "      <td>Dependents</td>\n",
       "      <td>1.20</td>\n",
       "    </tr>\n",
       "    <tr>\n",
       "      <th>2</th>\n",
       "      <td>Self_Employed</td>\n",
       "      <td>1.12</td>\n",
       "    </tr>\n",
       "    <tr>\n",
       "      <th>6</th>\n",
       "      <td>Loan_Amount_Term</td>\n",
       "      <td>1.05</td>\n",
       "    </tr>\n",
       "    <tr>\n",
       "      <th>7</th>\n",
       "      <td>Credit_History</td>\n",
       "      <td>1.02</td>\n",
       "    </tr>\n",
       "  </tbody>\n",
       "</table>\n",
       "</div>"
      ],
      "text/plain": [
       "                   Features   VIF\n",
       "10            gender_Female   inf\n",
       "11              gender_Male   inf\n",
       "12       Education_Graduate   inf\n",
       "13   Education_Not Graduate   inf\n",
       "5                LoanAmount  1.93\n",
       "3           ApplicantIncome  1.91\n",
       "4         CoapplicantIncome  1.49\n",
       "8   Property_Area_Semiurban  1.41\n",
       "9       Property_Area_Urban  1.41\n",
       "0                   Married  1.34\n",
       "1                Dependents  1.20\n",
       "2             Self_Employed  1.12\n",
       "6          Loan_Amount_Term  1.05\n",
       "7            Credit_History  1.02"
      ]
     },
     "execution_count": 83,
     "metadata": {},
     "output_type": "execute_result"
    }
   ],
   "source": [
    "vif = pd.DataFrame()\n",
    "vif['Features'] = X_train[col].columns\n",
    "vif['VIF'] = [variance_inflation_factor(X_train[col].values, i) for i in range(X_train[col].shape[1])]\n",
    "vif['VIF'] = round(vif['VIF'], 2)\n",
    "vif = vif.sort_values(by = \"VIF\", ascending = False)\n",
    "vif"
   ]
  },
  {
   "cell_type": "code",
   "execution_count": 84,
   "id": "0afdc8e4",
   "metadata": {},
   "outputs": [
    {
     "data": {
      "text/html": [
       "<table class=\"simpletable\">\n",
       "<caption>Generalized Linear Model Regression Results</caption>\n",
       "<tr>\n",
       "  <th>Dep. Variable:</th>      <td>Loan_Status</td>   <th>  No. Observations:  </th>  <td>   394</td> \n",
       "</tr>\n",
       "<tr>\n",
       "  <th>Model:</th>                  <td>GLM</td>       <th>  Df Residuals:      </th>  <td>   381</td> \n",
       "</tr>\n",
       "<tr>\n",
       "  <th>Model Family:</th>        <td>Binomial</td>     <th>  Df Model:          </th>  <td>    12</td> \n",
       "</tr>\n",
       "<tr>\n",
       "  <th>Link Function:</th>         <td>logit</td>      <th>  Scale:             </th> <td>  1.0000</td>\n",
       "</tr>\n",
       "<tr>\n",
       "  <th>Method:</th>                <td>IRLS</td>       <th>  Log-Likelihood:    </th> <td> -180.60</td>\n",
       "</tr>\n",
       "<tr>\n",
       "  <th>Date:</th>            <td>Sat, 23 Apr 2022</td> <th>  Deviance:          </th> <td>  361.20</td>\n",
       "</tr>\n",
       "<tr>\n",
       "  <th>Time:</th>                <td>10:30:46</td>     <th>  Pearson chi2:      </th>  <td>  396.</td> \n",
       "</tr>\n",
       "<tr>\n",
       "  <th>No. Iterations:</th>          <td>9</td>        <th>                     </th>     <td> </td>   \n",
       "</tr>\n",
       "<tr>\n",
       "  <th>Covariance Type:</th>     <td>nonrobust</td>    <th>                     </th>     <td> </td>   \n",
       "</tr>\n",
       "</table>\n",
       "<table class=\"simpletable\">\n",
       "<tr>\n",
       "             <td></td>                <th>coef</th>     <th>std err</th>      <th>z</th>      <th>P>|z|</th>  <th>[0.025</th>    <th>0.975]</th>  \n",
       "</tr>\n",
       "<tr>\n",
       "  <th>const</th>                   <td>    0.4722</td> <td>    0.267</td> <td>    1.769</td> <td> 0.077</td> <td>   -0.051</td> <td>    0.995</td>\n",
       "</tr>\n",
       "<tr>\n",
       "  <th>Married</th>                 <td>    0.2617</td> <td>    0.151</td> <td>    1.728</td> <td> 0.084</td> <td>   -0.035</td> <td>    0.558</td>\n",
       "</tr>\n",
       "<tr>\n",
       "  <th>Dependents</th>              <td>    0.0572</td> <td>    0.147</td> <td>    0.388</td> <td> 0.698</td> <td>   -0.232</td> <td>    0.346</td>\n",
       "</tr>\n",
       "<tr>\n",
       "  <th>Self_Employed</th>           <td>   -0.0506</td> <td>    0.141</td> <td>   -0.360</td> <td> 0.719</td> <td>   -0.326</td> <td>    0.225</td>\n",
       "</tr>\n",
       "<tr>\n",
       "  <th>ApplicantIncome</th>         <td>    0.1236</td> <td>    0.192</td> <td>    0.645</td> <td> 0.519</td> <td>   -0.252</td> <td>    0.499</td>\n",
       "</tr>\n",
       "<tr>\n",
       "  <th>CoapplicantIncome</th>       <td>    0.0673</td> <td>    0.165</td> <td>    0.409</td> <td> 0.682</td> <td>   -0.255</td> <td>    0.390</td>\n",
       "</tr>\n",
       "<tr>\n",
       "  <th>LoanAmount</th>              <td>   -0.1932</td> <td>    0.187</td> <td>   -1.034</td> <td> 0.301</td> <td>   -0.559</td> <td>    0.173</td>\n",
       "</tr>\n",
       "<tr>\n",
       "  <th>Loan_Amount_Term</th>        <td>    0.0202</td> <td>    0.137</td> <td>    0.147</td> <td> 0.883</td> <td>   -0.249</td> <td>    0.290</td>\n",
       "</tr>\n",
       "<tr>\n",
       "  <th>Credit_History</th>          <td>    1.2422</td> <td>    0.147</td> <td>    8.440</td> <td> 0.000</td> <td>    0.954</td> <td>    1.531</td>\n",
       "</tr>\n",
       "<tr>\n",
       "  <th>Property_Area_Semiurban</th> <td>    0.6412</td> <td>    0.327</td> <td>    1.960</td> <td> 0.050</td> <td>    0.000</td> <td>    1.282</td>\n",
       "</tr>\n",
       "<tr>\n",
       "  <th>Property_Area_Urban</th>     <td>    0.1334</td> <td>    0.330</td> <td>    0.404</td> <td> 0.686</td> <td>   -0.514</td> <td>    0.781</td>\n",
       "</tr>\n",
       "<tr>\n",
       "  <th>gender_Male</th>             <td>   -0.0682</td> <td>    0.382</td> <td>   -0.179</td> <td> 0.858</td> <td>   -0.817</td> <td>    0.681</td>\n",
       "</tr>\n",
       "<tr>\n",
       "  <th>Education_Graduate</th>      <td>    0.2658</td> <td>    0.188</td> <td>    1.415</td> <td> 0.157</td> <td>   -0.102</td> <td>    0.634</td>\n",
       "</tr>\n",
       "<tr>\n",
       "  <th>Education_Not Graduate</th>  <td>    0.2064</td> <td>    0.230</td> <td>    0.898</td> <td> 0.369</td> <td>   -0.244</td> <td>    0.657</td>\n",
       "</tr>\n",
       "</table>"
      ],
      "text/plain": [
       "<class 'statsmodels.iolib.summary.Summary'>\n",
       "\"\"\"\n",
       "                 Generalized Linear Model Regression Results                  \n",
       "==============================================================================\n",
       "Dep. Variable:            Loan_Status   No. Observations:                  394\n",
       "Model:                            GLM   Df Residuals:                      381\n",
       "Model Family:                Binomial   Df Model:                           12\n",
       "Link Function:                  logit   Scale:                          1.0000\n",
       "Method:                          IRLS   Log-Likelihood:                -180.60\n",
       "Date:                Sat, 23 Apr 2022   Deviance:                       361.20\n",
       "Time:                        10:30:46   Pearson chi2:                     396.\n",
       "No. Iterations:                     9                                         \n",
       "Covariance Type:            nonrobust                                         \n",
       "===========================================================================================\n",
       "                              coef    std err          z      P>|z|      [0.025      0.975]\n",
       "-------------------------------------------------------------------------------------------\n",
       "const                       0.4722      0.267      1.769      0.077      -0.051       0.995\n",
       "Married                     0.2617      0.151      1.728      0.084      -0.035       0.558\n",
       "Dependents                  0.0572      0.147      0.388      0.698      -0.232       0.346\n",
       "Self_Employed              -0.0506      0.141     -0.360      0.719      -0.326       0.225\n",
       "ApplicantIncome             0.1236      0.192      0.645      0.519      -0.252       0.499\n",
       "CoapplicantIncome           0.0673      0.165      0.409      0.682      -0.255       0.390\n",
       "LoanAmount                 -0.1932      0.187     -1.034      0.301      -0.559       0.173\n",
       "Loan_Amount_Term            0.0202      0.137      0.147      0.883      -0.249       0.290\n",
       "Credit_History              1.2422      0.147      8.440      0.000       0.954       1.531\n",
       "Property_Area_Semiurban     0.6412      0.327      1.960      0.050       0.000       1.282\n",
       "Property_Area_Urban         0.1334      0.330      0.404      0.686      -0.514       0.781\n",
       "gender_Male                -0.0682      0.382     -0.179      0.858      -0.817       0.681\n",
       "Education_Graduate          0.2658      0.188      1.415      0.157      -0.102       0.634\n",
       "Education_Not Graduate      0.2064      0.230      0.898      0.369      -0.244       0.657\n",
       "===========================================================================================\n",
       "\"\"\""
      ]
     },
     "execution_count": 84,
     "metadata": {},
     "output_type": "execute_result"
    }
   ],
   "source": [
    "#BUILDING MODEL #3\n",
    "col=col.drop('gender_Female',1)\n",
    "\n",
    "X_train_sm = sm.add_constant(X_train[col])\n",
    "logm1 = sm.GLM(y_train,X_train_sm, family = sm.families.Binomial())\n",
    "res = logm1.fit()\n",
    "res.summary()"
   ]
  },
  {
   "cell_type": "code",
   "execution_count": 85,
   "id": "a948b235",
   "metadata": {},
   "outputs": [
    {
     "data": {
      "text/html": [
       "<div>\n",
       "<style scoped>\n",
       "    .dataframe tbody tr th:only-of-type {\n",
       "        vertical-align: middle;\n",
       "    }\n",
       "\n",
       "    .dataframe tbody tr th {\n",
       "        vertical-align: top;\n",
       "    }\n",
       "\n",
       "    .dataframe thead th {\n",
       "        text-align: right;\n",
       "    }\n",
       "</style>\n",
       "<table border=\"1\" class=\"dataframe\">\n",
       "  <thead>\n",
       "    <tr style=\"text-align: right;\">\n",
       "      <th></th>\n",
       "      <th>Features</th>\n",
       "      <th>VIF</th>\n",
       "    </tr>\n",
       "  </thead>\n",
       "  <tbody>\n",
       "    <tr>\n",
       "      <th>11</th>\n",
       "      <td>Education_Graduate</td>\n",
       "      <td>7.36</td>\n",
       "    </tr>\n",
       "    <tr>\n",
       "      <th>12</th>\n",
       "      <td>Education_Not Graduate</td>\n",
       "      <td>3.08</td>\n",
       "    </tr>\n",
       "    <tr>\n",
       "      <th>5</th>\n",
       "      <td>LoanAmount</td>\n",
       "      <td>1.93</td>\n",
       "    </tr>\n",
       "    <tr>\n",
       "      <th>3</th>\n",
       "      <td>ApplicantIncome</td>\n",
       "      <td>1.91</td>\n",
       "    </tr>\n",
       "    <tr>\n",
       "      <th>4</th>\n",
       "      <td>CoapplicantIncome</td>\n",
       "      <td>1.49</td>\n",
       "    </tr>\n",
       "    <tr>\n",
       "      <th>8</th>\n",
       "      <td>Property_Area_Semiurban</td>\n",
       "      <td>1.41</td>\n",
       "    </tr>\n",
       "    <tr>\n",
       "      <th>9</th>\n",
       "      <td>Property_Area_Urban</td>\n",
       "      <td>1.41</td>\n",
       "    </tr>\n",
       "    <tr>\n",
       "      <th>0</th>\n",
       "      <td>Married</td>\n",
       "      <td>1.34</td>\n",
       "    </tr>\n",
       "    <tr>\n",
       "      <th>10</th>\n",
       "      <td>gender_Male</td>\n",
       "      <td>1.24</td>\n",
       "    </tr>\n",
       "    <tr>\n",
       "      <th>1</th>\n",
       "      <td>Dependents</td>\n",
       "      <td>1.20</td>\n",
       "    </tr>\n",
       "    <tr>\n",
       "      <th>2</th>\n",
       "      <td>Self_Employed</td>\n",
       "      <td>1.12</td>\n",
       "    </tr>\n",
       "    <tr>\n",
       "      <th>6</th>\n",
       "      <td>Loan_Amount_Term</td>\n",
       "      <td>1.05</td>\n",
       "    </tr>\n",
       "    <tr>\n",
       "      <th>7</th>\n",
       "      <td>Credit_History</td>\n",
       "      <td>1.02</td>\n",
       "    </tr>\n",
       "  </tbody>\n",
       "</table>\n",
       "</div>"
      ],
      "text/plain": [
       "                   Features   VIF\n",
       "11       Education_Graduate  7.36\n",
       "12   Education_Not Graduate  3.08\n",
       "5                LoanAmount  1.93\n",
       "3           ApplicantIncome  1.91\n",
       "4         CoapplicantIncome  1.49\n",
       "8   Property_Area_Semiurban  1.41\n",
       "9       Property_Area_Urban  1.41\n",
       "0                   Married  1.34\n",
       "10              gender_Male  1.24\n",
       "1                Dependents  1.20\n",
       "2             Self_Employed  1.12\n",
       "6          Loan_Amount_Term  1.05\n",
       "7            Credit_History  1.02"
      ]
     },
     "execution_count": 85,
     "metadata": {},
     "output_type": "execute_result"
    }
   ],
   "source": [
    "\n",
    "vif = pd.DataFrame()\n",
    "vif['Features'] = X_train[col].columns\n",
    "vif['VIF'] = [variance_inflation_factor(X_train[col].values, i) for i in range(X_train[col].shape[1])]\n",
    "vif['VIF'] = round(vif['VIF'], 2)\n",
    "vif = vif.sort_values(by = \"VIF\", ascending = False)\n",
    "vif"
   ]
  },
  {
   "cell_type": "code",
   "execution_count": 86,
   "id": "459b6bab",
   "metadata": {},
   "outputs": [
    {
     "data": {
      "text/html": [
       "<table class=\"simpletable\">\n",
       "<caption>Generalized Linear Model Regression Results</caption>\n",
       "<tr>\n",
       "  <th>Dep. Variable:</th>      <td>Loan_Status</td>   <th>  No. Observations:  </th>  <td>   394</td> \n",
       "</tr>\n",
       "<tr>\n",
       "  <th>Model:</th>                  <td>GLM</td>       <th>  Df Residuals:      </th>  <td>   381</td> \n",
       "</tr>\n",
       "<tr>\n",
       "  <th>Model Family:</th>        <td>Binomial</td>     <th>  Df Model:          </th>  <td>    12</td> \n",
       "</tr>\n",
       "<tr>\n",
       "  <th>Link Function:</th>         <td>logit</td>      <th>  Scale:             </th> <td>  1.0000</td>\n",
       "</tr>\n",
       "<tr>\n",
       "  <th>Method:</th>                <td>IRLS</td>       <th>  Log-Likelihood:    </th> <td> -180.60</td>\n",
       "</tr>\n",
       "<tr>\n",
       "  <th>Date:</th>            <td>Sat, 23 Apr 2022</td> <th>  Deviance:          </th> <td>  361.20</td>\n",
       "</tr>\n",
       "<tr>\n",
       "  <th>Time:</th>                <td>10:30:47</td>     <th>  Pearson chi2:      </th>  <td>  396.</td> \n",
       "</tr>\n",
       "<tr>\n",
       "  <th>No. Iterations:</th>          <td>5</td>        <th>                     </th>     <td> </td>   \n",
       "</tr>\n",
       "<tr>\n",
       "  <th>Covariance Type:</th>     <td>nonrobust</td>    <th>                     </th>     <td> </td>   \n",
       "</tr>\n",
       "</table>\n",
       "<table class=\"simpletable\">\n",
       "<tr>\n",
       "             <td></td>                <th>coef</th>     <th>std err</th>      <th>z</th>      <th>P>|z|</th>  <th>[0.025</th>    <th>0.975]</th>  \n",
       "</tr>\n",
       "<tr>\n",
       "  <th>const</th>                   <td>    0.7380</td> <td>    0.400</td> <td>    1.844</td> <td> 0.065</td> <td>   -0.047</td> <td>    1.523</td>\n",
       "</tr>\n",
       "<tr>\n",
       "  <th>Married</th>                 <td>    0.2617</td> <td>    0.151</td> <td>    1.728</td> <td> 0.084</td> <td>   -0.035</td> <td>    0.558</td>\n",
       "</tr>\n",
       "<tr>\n",
       "  <th>Dependents</th>              <td>    0.0572</td> <td>    0.147</td> <td>    0.388</td> <td> 0.698</td> <td>   -0.232</td> <td>    0.346</td>\n",
       "</tr>\n",
       "<tr>\n",
       "  <th>Self_Employed</th>           <td>   -0.0506</td> <td>    0.141</td> <td>   -0.360</td> <td> 0.719</td> <td>   -0.326</td> <td>    0.225</td>\n",
       "</tr>\n",
       "<tr>\n",
       "  <th>ApplicantIncome</th>         <td>    0.1236</td> <td>    0.192</td> <td>    0.645</td> <td> 0.519</td> <td>   -0.252</td> <td>    0.499</td>\n",
       "</tr>\n",
       "<tr>\n",
       "  <th>CoapplicantIncome</th>       <td>    0.0673</td> <td>    0.165</td> <td>    0.409</td> <td> 0.682</td> <td>   -0.255</td> <td>    0.390</td>\n",
       "</tr>\n",
       "<tr>\n",
       "  <th>LoanAmount</th>              <td>   -0.1932</td> <td>    0.187</td> <td>   -1.034</td> <td> 0.301</td> <td>   -0.559</td> <td>    0.173</td>\n",
       "</tr>\n",
       "<tr>\n",
       "  <th>Loan_Amount_Term</th>        <td>    0.0202</td> <td>    0.137</td> <td>    0.147</td> <td> 0.883</td> <td>   -0.249</td> <td>    0.290</td>\n",
       "</tr>\n",
       "<tr>\n",
       "  <th>Credit_History</th>          <td>    1.2422</td> <td>    0.147</td> <td>    8.440</td> <td> 0.000</td> <td>    0.954</td> <td>    1.531</td>\n",
       "</tr>\n",
       "<tr>\n",
       "  <th>Property_Area_Semiurban</th> <td>    0.6412</td> <td>    0.327</td> <td>    1.960</td> <td> 0.050</td> <td>    0.000</td> <td>    1.282</td>\n",
       "</tr>\n",
       "<tr>\n",
       "  <th>Property_Area_Urban</th>     <td>    0.1334</td> <td>    0.330</td> <td>    0.404</td> <td> 0.686</td> <td>   -0.514</td> <td>    0.781</td>\n",
       "</tr>\n",
       "<tr>\n",
       "  <th>gender_Male</th>             <td>   -0.0682</td> <td>    0.382</td> <td>   -0.179</td> <td> 0.858</td> <td>   -0.817</td> <td>    0.681</td>\n",
       "</tr>\n",
       "<tr>\n",
       "  <th>Education_Not Graduate</th>  <td>   -0.0593</td> <td>    0.324</td> <td>   -0.183</td> <td> 0.855</td> <td>   -0.694</td> <td>    0.575</td>\n",
       "</tr>\n",
       "</table>"
      ],
      "text/plain": [
       "<class 'statsmodels.iolib.summary.Summary'>\n",
       "\"\"\"\n",
       "                 Generalized Linear Model Regression Results                  \n",
       "==============================================================================\n",
       "Dep. Variable:            Loan_Status   No. Observations:                  394\n",
       "Model:                            GLM   Df Residuals:                      381\n",
       "Model Family:                Binomial   Df Model:                           12\n",
       "Link Function:                  logit   Scale:                          1.0000\n",
       "Method:                          IRLS   Log-Likelihood:                -180.60\n",
       "Date:                Sat, 23 Apr 2022   Deviance:                       361.20\n",
       "Time:                        10:30:47   Pearson chi2:                     396.\n",
       "No. Iterations:                     5                                         \n",
       "Covariance Type:            nonrobust                                         \n",
       "===========================================================================================\n",
       "                              coef    std err          z      P>|z|      [0.025      0.975]\n",
       "-------------------------------------------------------------------------------------------\n",
       "const                       0.7380      0.400      1.844      0.065      -0.047       1.523\n",
       "Married                     0.2617      0.151      1.728      0.084      -0.035       0.558\n",
       "Dependents                  0.0572      0.147      0.388      0.698      -0.232       0.346\n",
       "Self_Employed              -0.0506      0.141     -0.360      0.719      -0.326       0.225\n",
       "ApplicantIncome             0.1236      0.192      0.645      0.519      -0.252       0.499\n",
       "CoapplicantIncome           0.0673      0.165      0.409      0.682      -0.255       0.390\n",
       "LoanAmount                 -0.1932      0.187     -1.034      0.301      -0.559       0.173\n",
       "Loan_Amount_Term            0.0202      0.137      0.147      0.883      -0.249       0.290\n",
       "Credit_History              1.2422      0.147      8.440      0.000       0.954       1.531\n",
       "Property_Area_Semiurban     0.6412      0.327      1.960      0.050       0.000       1.282\n",
       "Property_Area_Urban         0.1334      0.330      0.404      0.686      -0.514       0.781\n",
       "gender_Male                -0.0682      0.382     -0.179      0.858      -0.817       0.681\n",
       "Education_Not Graduate     -0.0593      0.324     -0.183      0.855      -0.694       0.575\n",
       "===========================================================================================\n",
       "\"\"\""
      ]
     },
     "execution_count": 86,
     "metadata": {},
     "output_type": "execute_result"
    }
   ],
   "source": [
    "#BUILDING MODEL #3\n",
    "col=col.drop('Education_Graduate',1)\n",
    "\n",
    "X_train_sm = sm.add_constant(X_train[col])\n",
    "logm1 = sm.GLM(y_train,X_train_sm, family = sm.families.Binomial())\n",
    "res = logm1.fit()\n",
    "res.summary()"
   ]
  },
  {
   "cell_type": "code",
   "execution_count": 87,
   "id": "13a8854e",
   "metadata": {},
   "outputs": [
    {
     "data": {
      "text/html": [
       "<div>\n",
       "<style scoped>\n",
       "    .dataframe tbody tr th:only-of-type {\n",
       "        vertical-align: middle;\n",
       "    }\n",
       "\n",
       "    .dataframe tbody tr th {\n",
       "        vertical-align: top;\n",
       "    }\n",
       "\n",
       "    .dataframe thead th {\n",
       "        text-align: right;\n",
       "    }\n",
       "</style>\n",
       "<table border=\"1\" class=\"dataframe\">\n",
       "  <thead>\n",
       "    <tr style=\"text-align: right;\">\n",
       "      <th></th>\n",
       "      <th>Features</th>\n",
       "      <th>VIF</th>\n",
       "    </tr>\n",
       "  </thead>\n",
       "  <tbody>\n",
       "    <tr>\n",
       "      <th>10</th>\n",
       "      <td>gender_Male</td>\n",
       "      <td>2.75</td>\n",
       "    </tr>\n",
       "    <tr>\n",
       "      <th>5</th>\n",
       "      <td>LoanAmount</td>\n",
       "      <td>1.93</td>\n",
       "    </tr>\n",
       "    <tr>\n",
       "      <th>3</th>\n",
       "      <td>ApplicantIncome</td>\n",
       "      <td>1.91</td>\n",
       "    </tr>\n",
       "    <tr>\n",
       "      <th>8</th>\n",
       "      <td>Property_Area_Semiurban</td>\n",
       "      <td>1.70</td>\n",
       "    </tr>\n",
       "    <tr>\n",
       "      <th>9</th>\n",
       "      <td>Property_Area_Urban</td>\n",
       "      <td>1.69</td>\n",
       "    </tr>\n",
       "    <tr>\n",
       "      <th>4</th>\n",
       "      <td>CoapplicantIncome</td>\n",
       "      <td>1.48</td>\n",
       "    </tr>\n",
       "    <tr>\n",
       "      <th>11</th>\n",
       "      <td>Education_Not Graduate</td>\n",
       "      <td>1.38</td>\n",
       "    </tr>\n",
       "    <tr>\n",
       "      <th>0</th>\n",
       "      <td>Married</td>\n",
       "      <td>1.25</td>\n",
       "    </tr>\n",
       "    <tr>\n",
       "      <th>1</th>\n",
       "      <td>Dependents</td>\n",
       "      <td>1.19</td>\n",
       "    </tr>\n",
       "    <tr>\n",
       "      <th>2</th>\n",
       "      <td>Self_Employed</td>\n",
       "      <td>1.12</td>\n",
       "    </tr>\n",
       "    <tr>\n",
       "      <th>6</th>\n",
       "      <td>Loan_Amount_Term</td>\n",
       "      <td>1.05</td>\n",
       "    </tr>\n",
       "    <tr>\n",
       "      <th>7</th>\n",
       "      <td>Credit_History</td>\n",
       "      <td>1.02</td>\n",
       "    </tr>\n",
       "  </tbody>\n",
       "</table>\n",
       "</div>"
      ],
      "text/plain": [
       "                   Features   VIF\n",
       "10              gender_Male  2.75\n",
       "5                LoanAmount  1.93\n",
       "3           ApplicantIncome  1.91\n",
       "8   Property_Area_Semiurban  1.70\n",
       "9       Property_Area_Urban  1.69\n",
       "4         CoapplicantIncome  1.48\n",
       "11   Education_Not Graduate  1.38\n",
       "0                   Married  1.25\n",
       "1                Dependents  1.19\n",
       "2             Self_Employed  1.12\n",
       "6          Loan_Amount_Term  1.05\n",
       "7            Credit_History  1.02"
      ]
     },
     "execution_count": 87,
     "metadata": {},
     "output_type": "execute_result"
    }
   ],
   "source": [
    "\n",
    "\n",
    "vif = pd.DataFrame()\n",
    "vif['Features'] = X_train[col].columns\n",
    "vif['VIF'] = [variance_inflation_factor(X_train[col].values, i) for i in range(X_train[col].shape[1])]\n",
    "vif['VIF'] = round(vif['VIF'], 2)\n",
    "vif = vif.sort_values(by = \"VIF\", ascending = False)\n",
    "vif"
   ]
  },
  {
   "cell_type": "code",
   "execution_count": null,
   "id": "fed2a53f",
   "metadata": {},
   "outputs": [],
   "source": []
  },
  {
   "cell_type": "code",
   "execution_count": 88,
   "id": "3b8f5a74",
   "metadata": {},
   "outputs": [
    {
     "data": {
      "text/plain": [
       "34     0.695057\n",
       "390    0.727285\n",
       "457    0.805940\n",
       "295    0.853134\n",
       "482    0.883600\n",
       "552    0.823216\n",
       "329    0.751549\n",
       "3      0.813366\n",
       "497    0.824725\n",
       "389    0.802651\n",
       "dtype: float64"
      ]
     },
     "execution_count": 88,
     "metadata": {},
     "output_type": "execute_result"
    }
   ],
   "source": [
    "y_train_pred=res.predict(X_train_sm)\n",
    "y_train_pred[:10]"
   ]
  },
  {
   "cell_type": "code",
   "execution_count": 89,
   "id": "0e6aa961",
   "metadata": {},
   "outputs": [
    {
     "data": {
      "text/plain": [
       "array([0.69505722, 0.7272854 , 0.80593984, 0.853134  , 0.88359987,\n",
       "       0.82321638, 0.75154945, 0.81336584, 0.82472469, 0.80265075])"
      ]
     },
     "execution_count": 89,
     "metadata": {},
     "output_type": "execute_result"
    }
   ],
   "source": [
    "y_train_pred=y_train_pred.values.reshape(-1)\n",
    "y_train_pred[:10]"
   ]
  },
  {
   "cell_type": "code",
   "execution_count": 90,
   "id": "9f8026a2",
   "metadata": {},
   "outputs": [
    {
     "data": {
      "text/plain": [
       "array([0.69505722, 0.7272854 , 0.80593984, 0.853134  , 0.88359987,\n",
       "       0.82321638, 0.75154945, 0.81336584, 0.82472469, 0.80265075])"
      ]
     },
     "execution_count": 90,
     "metadata": {},
     "output_type": "execute_result"
    }
   ],
   "source": [
    "y_train_pred[:10]"
   ]
  },
  {
   "cell_type": "code",
   "execution_count": 91,
   "id": "cde71c90",
   "metadata": {},
   "outputs": [
    {
     "data": {
      "text/html": [
       "<div>\n",
       "<style scoped>\n",
       "    .dataframe tbody tr th:only-of-type {\n",
       "        vertical-align: middle;\n",
       "    }\n",
       "\n",
       "    .dataframe tbody tr th {\n",
       "        vertical-align: top;\n",
       "    }\n",
       "\n",
       "    .dataframe thead th {\n",
       "        text-align: right;\n",
       "    }\n",
       "</style>\n",
       "<table border=\"1\" class=\"dataframe\">\n",
       "  <thead>\n",
       "    <tr style=\"text-align: right;\">\n",
       "      <th></th>\n",
       "      <th>Status</th>\n",
       "      <th>Status_prob</th>\n",
       "      <th>Prospect ID</th>\n",
       "    </tr>\n",
       "  </thead>\n",
       "  <tbody>\n",
       "    <tr>\n",
       "      <th>0</th>\n",
       "      <td>0</td>\n",
       "      <td>0.695057</td>\n",
       "      <td>34</td>\n",
       "    </tr>\n",
       "    <tr>\n",
       "      <th>1</th>\n",
       "      <td>1</td>\n",
       "      <td>0.727285</td>\n",
       "      <td>390</td>\n",
       "    </tr>\n",
       "    <tr>\n",
       "      <th>2</th>\n",
       "      <td>0</td>\n",
       "      <td>0.805940</td>\n",
       "      <td>457</td>\n",
       "    </tr>\n",
       "    <tr>\n",
       "      <th>3</th>\n",
       "      <td>1</td>\n",
       "      <td>0.853134</td>\n",
       "      <td>295</td>\n",
       "    </tr>\n",
       "    <tr>\n",
       "      <th>4</th>\n",
       "      <td>1</td>\n",
       "      <td>0.883600</td>\n",
       "      <td>482</td>\n",
       "    </tr>\n",
       "    <tr>\n",
       "      <th>...</th>\n",
       "      <td>...</td>\n",
       "      <td>...</td>\n",
       "      <td>...</td>\n",
       "    </tr>\n",
       "    <tr>\n",
       "      <th>389</th>\n",
       "      <td>0</td>\n",
       "      <td>0.728456</td>\n",
       "      <td>75</td>\n",
       "    </tr>\n",
       "    <tr>\n",
       "      <th>390</th>\n",
       "      <td>0</td>\n",
       "      <td>0.702170</td>\n",
       "      <td>148</td>\n",
       "    </tr>\n",
       "    <tr>\n",
       "      <th>391</th>\n",
       "      <td>1</td>\n",
       "      <td>0.817917</td>\n",
       "      <td>315</td>\n",
       "    </tr>\n",
       "    <tr>\n",
       "      <th>392</th>\n",
       "      <td>1</td>\n",
       "      <td>0.851934</td>\n",
       "      <td>121</td>\n",
       "    </tr>\n",
       "    <tr>\n",
       "      <th>393</th>\n",
       "      <td>1</td>\n",
       "      <td>0.829596</td>\n",
       "      <td>521</td>\n",
       "    </tr>\n",
       "  </tbody>\n",
       "</table>\n",
       "<p>394 rows × 3 columns</p>\n",
       "</div>"
      ],
      "text/plain": [
       "     Status  Status_prob  Prospect ID\n",
       "0         0     0.695057           34\n",
       "1         1     0.727285          390\n",
       "2         0     0.805940          457\n",
       "3         1     0.853134          295\n",
       "4         1     0.883600          482\n",
       "..      ...          ...          ...\n",
       "389       0     0.728456           75\n",
       "390       0     0.702170          148\n",
       "391       1     0.817917          315\n",
       "392       1     0.851934          121\n",
       "393       1     0.829596          521\n",
       "\n",
       "[394 rows x 3 columns]"
      ]
     },
     "execution_count": 91,
     "metadata": {},
     "output_type": "execute_result"
    }
   ],
   "source": [
    "y_train_pred_final=pd.DataFrame({'Status':y_train.values,'Status_prob':y_train_pred})\n",
    "y_train_pred_final['Prospect ID'] = y_train.index\n",
    "y_train_pred_final"
   ]
  },
  {
   "cell_type": "code",
   "execution_count": 92,
   "id": "8b9f5a3e",
   "metadata": {},
   "outputs": [
    {
     "data": {
      "text/html": [
       "<div>\n",
       "<style scoped>\n",
       "    .dataframe tbody tr th:only-of-type {\n",
       "        vertical-align: middle;\n",
       "    }\n",
       "\n",
       "    .dataframe tbody tr th {\n",
       "        vertical-align: top;\n",
       "    }\n",
       "\n",
       "    .dataframe thead th {\n",
       "        text-align: right;\n",
       "    }\n",
       "</style>\n",
       "<table border=\"1\" class=\"dataframe\">\n",
       "  <thead>\n",
       "    <tr style=\"text-align: right;\">\n",
       "      <th></th>\n",
       "      <th>Status</th>\n",
       "      <th>Status_prob</th>\n",
       "      <th>Prospect ID</th>\n",
       "      <th>Predicted</th>\n",
       "    </tr>\n",
       "  </thead>\n",
       "  <tbody>\n",
       "    <tr>\n",
       "      <th>0</th>\n",
       "      <td>0</td>\n",
       "      <td>0.695057</td>\n",
       "      <td>34</td>\n",
       "      <td>1</td>\n",
       "    </tr>\n",
       "    <tr>\n",
       "      <th>1</th>\n",
       "      <td>1</td>\n",
       "      <td>0.727285</td>\n",
       "      <td>390</td>\n",
       "      <td>1</td>\n",
       "    </tr>\n",
       "    <tr>\n",
       "      <th>2</th>\n",
       "      <td>0</td>\n",
       "      <td>0.805940</td>\n",
       "      <td>457</td>\n",
       "      <td>1</td>\n",
       "    </tr>\n",
       "    <tr>\n",
       "      <th>3</th>\n",
       "      <td>1</td>\n",
       "      <td>0.853134</td>\n",
       "      <td>295</td>\n",
       "      <td>1</td>\n",
       "    </tr>\n",
       "    <tr>\n",
       "      <th>4</th>\n",
       "      <td>1</td>\n",
       "      <td>0.883600</td>\n",
       "      <td>482</td>\n",
       "      <td>1</td>\n",
       "    </tr>\n",
       "    <tr>\n",
       "      <th>5</th>\n",
       "      <td>1</td>\n",
       "      <td>0.823216</td>\n",
       "      <td>552</td>\n",
       "      <td>1</td>\n",
       "    </tr>\n",
       "    <tr>\n",
       "      <th>6</th>\n",
       "      <td>1</td>\n",
       "      <td>0.751549</td>\n",
       "      <td>329</td>\n",
       "      <td>1</td>\n",
       "    </tr>\n",
       "    <tr>\n",
       "      <th>7</th>\n",
       "      <td>1</td>\n",
       "      <td>0.813366</td>\n",
       "      <td>3</td>\n",
       "      <td>1</td>\n",
       "    </tr>\n",
       "    <tr>\n",
       "      <th>8</th>\n",
       "      <td>1</td>\n",
       "      <td>0.824725</td>\n",
       "      <td>497</td>\n",
       "      <td>1</td>\n",
       "    </tr>\n",
       "    <tr>\n",
       "      <th>9</th>\n",
       "      <td>1</td>\n",
       "      <td>0.802651</td>\n",
       "      <td>389</td>\n",
       "      <td>1</td>\n",
       "    </tr>\n",
       "    <tr>\n",
       "      <th>10</th>\n",
       "      <td>1</td>\n",
       "      <td>0.838602</td>\n",
       "      <td>394</td>\n",
       "      <td>1</td>\n",
       "    </tr>\n",
       "    <tr>\n",
       "      <th>11</th>\n",
       "      <td>1</td>\n",
       "      <td>0.131685</td>\n",
       "      <td>411</td>\n",
       "      <td>0</td>\n",
       "    </tr>\n",
       "    <tr>\n",
       "      <th>12</th>\n",
       "      <td>1</td>\n",
       "      <td>0.802965</td>\n",
       "      <td>441</td>\n",
       "      <td>1</td>\n",
       "    </tr>\n",
       "    <tr>\n",
       "      <th>13</th>\n",
       "      <td>0</td>\n",
       "      <td>0.094444</td>\n",
       "      <td>412</td>\n",
       "      <td>0</td>\n",
       "    </tr>\n",
       "    <tr>\n",
       "      <th>14</th>\n",
       "      <td>1</td>\n",
       "      <td>0.889715</td>\n",
       "      <td>560</td>\n",
       "      <td>1</td>\n",
       "    </tr>\n",
       "    <tr>\n",
       "      <th>15</th>\n",
       "      <td>1</td>\n",
       "      <td>0.836452</td>\n",
       "      <td>542</td>\n",
       "      <td>1</td>\n",
       "    </tr>\n",
       "    <tr>\n",
       "      <th>16</th>\n",
       "      <td>0</td>\n",
       "      <td>0.097497</td>\n",
       "      <td>396</td>\n",
       "      <td>0</td>\n",
       "    </tr>\n",
       "    <tr>\n",
       "      <th>17</th>\n",
       "      <td>1</td>\n",
       "      <td>0.812971</td>\n",
       "      <td>68</td>\n",
       "      <td>1</td>\n",
       "    </tr>\n",
       "    <tr>\n",
       "      <th>18</th>\n",
       "      <td>1</td>\n",
       "      <td>0.820237</td>\n",
       "      <td>176</td>\n",
       "      <td>1</td>\n",
       "    </tr>\n",
       "    <tr>\n",
       "      <th>19</th>\n",
       "      <td>1</td>\n",
       "      <td>0.904182</td>\n",
       "      <td>335</td>\n",
       "      <td>1</td>\n",
       "    </tr>\n",
       "    <tr>\n",
       "      <th>20</th>\n",
       "      <td>1</td>\n",
       "      <td>0.722824</td>\n",
       "      <td>197</td>\n",
       "      <td>1</td>\n",
       "    </tr>\n",
       "    <tr>\n",
       "      <th>21</th>\n",
       "      <td>1</td>\n",
       "      <td>0.828069</td>\n",
       "      <td>249</td>\n",
       "      <td>1</td>\n",
       "    </tr>\n",
       "    <tr>\n",
       "      <th>22</th>\n",
       "      <td>0</td>\n",
       "      <td>0.226352</td>\n",
       "      <td>7</td>\n",
       "      <td>0</td>\n",
       "    </tr>\n",
       "    <tr>\n",
       "      <th>23</th>\n",
       "      <td>0</td>\n",
       "      <td>0.147294</td>\n",
       "      <td>569</td>\n",
       "      <td>0</td>\n",
       "    </tr>\n",
       "    <tr>\n",
       "      <th>24</th>\n",
       "      <td>1</td>\n",
       "      <td>0.884396</td>\n",
       "      <td>234</td>\n",
       "      <td>1</td>\n",
       "    </tr>\n",
       "  </tbody>\n",
       "</table>\n",
       "</div>"
      ],
      "text/plain": [
       "    Status  Status_prob  Prospect ID  Predicted\n",
       "0        0     0.695057           34          1\n",
       "1        1     0.727285          390          1\n",
       "2        0     0.805940          457          1\n",
       "3        1     0.853134          295          1\n",
       "4        1     0.883600          482          1\n",
       "5        1     0.823216          552          1\n",
       "6        1     0.751549          329          1\n",
       "7        1     0.813366            3          1\n",
       "8        1     0.824725          497          1\n",
       "9        1     0.802651          389          1\n",
       "10       1     0.838602          394          1\n",
       "11       1     0.131685          411          0\n",
       "12       1     0.802965          441          1\n",
       "13       0     0.094444          412          0\n",
       "14       1     0.889715          560          1\n",
       "15       1     0.836452          542          1\n",
       "16       0     0.097497          396          0\n",
       "17       1     0.812971           68          1\n",
       "18       1     0.820237          176          1\n",
       "19       1     0.904182          335          1\n",
       "20       1     0.722824          197          1\n",
       "21       1     0.828069          249          1\n",
       "22       0     0.226352            7          0\n",
       "23       0     0.147294          569          0\n",
       "24       1     0.884396          234          1"
      ]
     },
     "execution_count": 92,
     "metadata": {},
     "output_type": "execute_result"
    }
   ],
   "source": [
    "y_train_pred_final['Predicted'] = y_train_pred_final.Status_prob.map(lambda x: 1 if x > 0.5 else 0)\n",
    "\n",
    "# Let's see the head\n",
    "y_train_pred_final.head(25)"
   ]
  },
  {
   "cell_type": "code",
   "execution_count": 93,
   "id": "54b6b0d7",
   "metadata": {},
   "outputs": [
    {
     "name": "stdout",
     "output_type": "stream",
     "text": [
      "[[ 56  62]\n",
      " [  9 267]]\n"
     ]
    }
   ],
   "source": [
    "from sklearn import metrics\n",
    "\n",
    "# Confusion matrix \n",
    "confusion = metrics.confusion_matrix(y_train_pred_final.Status, y_train_pred_final.Predicted )\n",
    "print(confusion)"
   ]
  },
  {
   "cell_type": "code",
   "execution_count": 94,
   "id": "261f4aee",
   "metadata": {},
   "outputs": [
    {
     "name": "stdout",
     "output_type": "stream",
     "text": [
      "0.8197969543147208\n"
     ]
    }
   ],
   "source": [
    "# Let's check the overall accuracy.\n",
    "print(metrics.accuracy_score(y_train_pred_final.Status, y_train_pred_final.Predicted))"
   ]
  },
  {
   "cell_type": "code",
   "execution_count": 95,
   "id": "607d1f48",
   "metadata": {},
   "outputs": [],
   "source": [
    "TP = confusion[1,1] # true positive \n",
    "TN = confusion[0,0] # true negatives\n",
    "FP = confusion[0,1] # false positives\n",
    "FN = confusion[1,0] # false negatives"
   ]
  },
  {
   "cell_type": "code",
   "execution_count": 96,
   "id": "49147672",
   "metadata": {},
   "outputs": [
    {
     "data": {
      "text/plain": [
       "0.967391304347826"
      ]
     },
     "execution_count": 96,
     "metadata": {},
     "output_type": "execute_result"
    }
   ],
   "source": [
    "# Let's see the sensitivity of our logistic regression model\n",
    "TP / float(TP+FN)"
   ]
  },
  {
   "cell_type": "code",
   "execution_count": 97,
   "id": "df8336bc",
   "metadata": {},
   "outputs": [
    {
     "data": {
      "text/plain": [
       "0.4745762711864407"
      ]
     },
     "execution_count": 97,
     "metadata": {},
     "output_type": "execute_result"
    }
   ],
   "source": [
    "# Let us calculate specificity\n",
    "TN / float(TN+FP)"
   ]
  },
  {
   "cell_type": "code",
   "execution_count": 98,
   "id": "236698ca",
   "metadata": {},
   "outputs": [
    {
     "name": "stdout",
     "output_type": "stream",
     "text": [
      "0.5254237288135594\n"
     ]
    }
   ],
   "source": [
    "# Calculate False Postive Rate - predicting conversion when customer does not have convert\n",
    "print(FP/ float(TN+FP))"
   ]
  },
  {
   "cell_type": "code",
   "execution_count": 99,
   "id": "5681a4c0",
   "metadata": {},
   "outputs": [
    {
     "name": "stdout",
     "output_type": "stream",
     "text": [
      "0.8115501519756839\n"
     ]
    }
   ],
   "source": [
    "# positive predictive value \n",
    "print (TP / float(TP+FP))"
   ]
  },
  {
   "cell_type": "code",
   "execution_count": 100,
   "id": "5ad1ae6b",
   "metadata": {},
   "outputs": [
    {
     "name": "stdout",
     "output_type": "stream",
     "text": [
      "0.8615384615384616\n"
     ]
    }
   ],
   "source": [
    "# Negative predictive value\n",
    "print (TN / float(TN+ FN))"
   ]
  },
  {
   "cell_type": "code",
   "execution_count": null,
   "id": "295bacbe",
   "metadata": {},
   "outputs": [],
   "source": []
  },
  {
   "cell_type": "markdown",
   "id": "da30a104",
   "metadata": {},
   "source": [
    "# Prediction on Test"
   ]
  },
  {
   "cell_type": "code",
   "execution_count": 101,
   "id": "6ef3b7c3",
   "metadata": {},
   "outputs": [
    {
     "data": {
      "text/plain": [
       "Index(['Married', 'Dependents', 'Self_Employed', 'ApplicantIncome',\n",
       "       'CoapplicantIncome', 'LoanAmount', 'Loan_Amount_Term',\n",
       "       'Credit_History'],\n",
       "      dtype='object')"
      ]
     },
     "execution_count": 101,
     "metadata": {},
     "output_type": "execute_result"
    }
   ],
   "source": [
    "num_cols=X_test.select_dtypes(include=['float64','int64']).columns\n",
    "num_cols"
   ]
  },
  {
   "cell_type": "code",
   "execution_count": 102,
   "id": "a32c29a4",
   "metadata": {},
   "outputs": [],
   "source": [
    "X_test[num_cols]=Scaler.transform(X_test[num_cols])"
   ]
  },
  {
   "cell_type": "code",
   "execution_count": 103,
   "id": "e61b2593",
   "metadata": {},
   "outputs": [],
   "source": [
    "X_test=X_test[col]"
   ]
  },
  {
   "cell_type": "code",
   "execution_count": 104,
   "id": "281decc4",
   "metadata": {},
   "outputs": [
    {
     "data": {
      "text/html": [
       "<div>\n",
       "<style scoped>\n",
       "    .dataframe tbody tr th:only-of-type {\n",
       "        vertical-align: middle;\n",
       "    }\n",
       "\n",
       "    .dataframe tbody tr th {\n",
       "        vertical-align: top;\n",
       "    }\n",
       "\n",
       "    .dataframe thead th {\n",
       "        text-align: right;\n",
       "    }\n",
       "</style>\n",
       "<table border=\"1\" class=\"dataframe\">\n",
       "  <thead>\n",
       "    <tr style=\"text-align: right;\">\n",
       "      <th></th>\n",
       "      <th>Married</th>\n",
       "      <th>Dependents</th>\n",
       "      <th>Self_Employed</th>\n",
       "      <th>ApplicantIncome</th>\n",
       "      <th>CoapplicantIncome</th>\n",
       "      <th>LoanAmount</th>\n",
       "      <th>Loan_Amount_Term</th>\n",
       "      <th>Credit_History</th>\n",
       "      <th>Property_Area_Semiurban</th>\n",
       "      <th>Property_Area_Urban</th>\n",
       "      <th>gender_Male</th>\n",
       "      <th>Education_Not Graduate</th>\n",
       "    </tr>\n",
       "  </thead>\n",
       "  <tbody>\n",
       "    <tr>\n",
       "      <th>240</th>\n",
       "      <td>0.705761</td>\n",
       "      <td>1.218681</td>\n",
       "      <td>-0.402793</td>\n",
       "      <td>0.303043</td>\n",
       "      <td>2.106331</td>\n",
       "      <td>-0.321378</td>\n",
       "      <td>0.311149</td>\n",
       "      <td>0.444487</td>\n",
       "      <td>0</td>\n",
       "      <td>0</td>\n",
       "      <td>1</td>\n",
       "      <td>0</td>\n",
       "    </tr>\n",
       "    <tr>\n",
       "      <th>123</th>\n",
       "      <td>0.705761</td>\n",
       "      <td>1.218681</td>\n",
       "      <td>-0.402793</td>\n",
       "      <td>-0.608979</td>\n",
       "      <td>-0.863334</td>\n",
       "      <td>-0.931647</td>\n",
       "      <td>0.311149</td>\n",
       "      <td>0.444487</td>\n",
       "      <td>1</td>\n",
       "      <td>0</td>\n",
       "      <td>1</td>\n",
       "      <td>0</td>\n",
       "    </tr>\n",
       "    <tr>\n",
       "      <th>310</th>\n",
       "      <td>-1.416910</td>\n",
       "      <td>-0.761362</td>\n",
       "      <td>-0.402793</td>\n",
       "      <td>-0.621725</td>\n",
       "      <td>-0.863334</td>\n",
       "      <td>-0.884703</td>\n",
       "      <td>0.311149</td>\n",
       "      <td>0.444487</td>\n",
       "      <td>1</td>\n",
       "      <td>0</td>\n",
       "      <td>0</td>\n",
       "      <td>0</td>\n",
       "    </tr>\n",
       "    <tr>\n",
       "      <th>227</th>\n",
       "      <td>0.705761</td>\n",
       "      <td>1.218681</td>\n",
       "      <td>-0.402793</td>\n",
       "      <td>0.440388</td>\n",
       "      <td>0.143382</td>\n",
       "      <td>1.086935</td>\n",
       "      <td>0.311149</td>\n",
       "      <td>0.444487</td>\n",
       "      <td>1</td>\n",
       "      <td>0</td>\n",
       "      <td>1</td>\n",
       "      <td>0</td>\n",
       "    </tr>\n",
       "    <tr>\n",
       "      <th>502</th>\n",
       "      <td>0.705761</td>\n",
       "      <td>1.218681</td>\n",
       "      <td>-0.402793</td>\n",
       "      <td>-0.000964</td>\n",
       "      <td>2.476946</td>\n",
       "      <td>1.055639</td>\n",
       "      <td>0.311149</td>\n",
       "      <td>0.444487</td>\n",
       "      <td>1</td>\n",
       "      <td>0</td>\n",
       "      <td>1</td>\n",
       "      <td>0</td>\n",
       "    </tr>\n",
       "    <tr>\n",
       "      <th>...</th>\n",
       "      <td>...</td>\n",
       "      <td>...</td>\n",
       "      <td>...</td>\n",
       "      <td>...</td>\n",
       "      <td>...</td>\n",
       "      <td>...</td>\n",
       "      <td>...</td>\n",
       "      <td>...</td>\n",
       "      <td>...</td>\n",
       "      <td>...</td>\n",
       "      <td>...</td>\n",
       "      <td>...</td>\n",
       "    </tr>\n",
       "    <tr>\n",
       "      <th>23</th>\n",
       "      <td>0.705761</td>\n",
       "      <td>1.218681</td>\n",
       "      <td>-0.402793</td>\n",
       "      <td>-0.478963</td>\n",
       "      <td>0.275236</td>\n",
       "      <td>-0.446561</td>\n",
       "      <td>0.311149</td>\n",
       "      <td>-2.249786</td>\n",
       "      <td>0</td>\n",
       "      <td>0</td>\n",
       "      <td>1</td>\n",
       "      <td>1</td>\n",
       "    </tr>\n",
       "    <tr>\n",
       "      <th>110</th>\n",
       "      <td>-1.416910</td>\n",
       "      <td>-0.761362</td>\n",
       "      <td>-0.402793</td>\n",
       "      <td>0.142754</td>\n",
       "      <td>-0.863334</td>\n",
       "      <td>-0.071011</td>\n",
       "      <td>0.311149</td>\n",
       "      <td>0.444487</td>\n",
       "      <td>0</td>\n",
       "      <td>1</td>\n",
       "      <td>1</td>\n",
       "      <td>0</td>\n",
       "    </tr>\n",
       "    <tr>\n",
       "      <th>530</th>\n",
       "      <td>0.705761</td>\n",
       "      <td>-0.761362</td>\n",
       "      <td>-0.402793</td>\n",
       "      <td>-1.224641</td>\n",
       "      <td>2.403298</td>\n",
       "      <td>1.180822</td>\n",
       "      <td>0.311149</td>\n",
       "      <td>0.444487</td>\n",
       "      <td>0</td>\n",
       "      <td>0</td>\n",
       "      <td>1</td>\n",
       "      <td>0</td>\n",
       "    </tr>\n",
       "    <tr>\n",
       "      <th>406</th>\n",
       "      <td>0.705761</td>\n",
       "      <td>-0.761362</td>\n",
       "      <td>-0.402793</td>\n",
       "      <td>-0.860725</td>\n",
       "      <td>0.562105</td>\n",
       "      <td>-0.399618</td>\n",
       "      <td>0.311149</td>\n",
       "      <td>0.444487</td>\n",
       "      <td>0</td>\n",
       "      <td>1</td>\n",
       "      <td>1</td>\n",
       "      <td>1</td>\n",
       "    </tr>\n",
       "    <tr>\n",
       "      <th>511</th>\n",
       "      <td>0.705761</td>\n",
       "      <td>0.228660</td>\n",
       "      <td>-0.402793</td>\n",
       "      <td>0.381435</td>\n",
       "      <td>0.326908</td>\n",
       "      <td>1.712851</td>\n",
       "      <td>0.311149</td>\n",
       "      <td>0.444487</td>\n",
       "      <td>1</td>\n",
       "      <td>0</td>\n",
       "      <td>1</td>\n",
       "      <td>0</td>\n",
       "    </tr>\n",
       "  </tbody>\n",
       "</table>\n",
       "<p>169 rows × 12 columns</p>\n",
       "</div>"
      ],
      "text/plain": [
       "      Married  Dependents  Self_Employed  ApplicantIncome  CoapplicantIncome  \\\n",
       "240  0.705761    1.218681      -0.402793         0.303043           2.106331   \n",
       "123  0.705761    1.218681      -0.402793        -0.608979          -0.863334   \n",
       "310 -1.416910   -0.761362      -0.402793        -0.621725          -0.863334   \n",
       "227  0.705761    1.218681      -0.402793         0.440388           0.143382   \n",
       "502  0.705761    1.218681      -0.402793        -0.000964           2.476946   \n",
       "..        ...         ...            ...              ...                ...   \n",
       "23   0.705761    1.218681      -0.402793        -0.478963           0.275236   \n",
       "110 -1.416910   -0.761362      -0.402793         0.142754          -0.863334   \n",
       "530  0.705761   -0.761362      -0.402793        -1.224641           2.403298   \n",
       "406  0.705761   -0.761362      -0.402793        -0.860725           0.562105   \n",
       "511  0.705761    0.228660      -0.402793         0.381435           0.326908   \n",
       "\n",
       "     LoanAmount  Loan_Amount_Term  Credit_History  Property_Area_Semiurban  \\\n",
       "240   -0.321378          0.311149        0.444487                        0   \n",
       "123   -0.931647          0.311149        0.444487                        1   \n",
       "310   -0.884703          0.311149        0.444487                        1   \n",
       "227    1.086935          0.311149        0.444487                        1   \n",
       "502    1.055639          0.311149        0.444487                        1   \n",
       "..          ...               ...             ...                      ...   \n",
       "23    -0.446561          0.311149       -2.249786                        0   \n",
       "110   -0.071011          0.311149        0.444487                        0   \n",
       "530    1.180822          0.311149        0.444487                        0   \n",
       "406   -0.399618          0.311149        0.444487                        0   \n",
       "511    1.712851          0.311149        0.444487                        1   \n",
       "\n",
       "     Property_Area_Urban  gender_Male  Education_Not Graduate  \n",
       "240                    0            1                       0  \n",
       "123                    0            1                       0  \n",
       "310                    0            0                       0  \n",
       "227                    0            1                       0  \n",
       "502                    0            1                       0  \n",
       "..                   ...          ...                     ...  \n",
       "23                     0            1                       1  \n",
       "110                    1            1                       0  \n",
       "530                    0            1                       0  \n",
       "406                    1            1                       1  \n",
       "511                    0            1                       0  \n",
       "\n",
       "[169 rows x 12 columns]"
      ]
     },
     "execution_count": 104,
     "metadata": {},
     "output_type": "execute_result"
    }
   ],
   "source": [
    "X_test"
   ]
  },
  {
   "cell_type": "code",
   "execution_count": 105,
   "id": "dbef84e0",
   "metadata": {},
   "outputs": [],
   "source": [
    "X_test_sm=sm.add_constant(X_test)"
   ]
  },
  {
   "cell_type": "code",
   "execution_count": 106,
   "id": "011a6d22",
   "metadata": {},
   "outputs": [
    {
     "data": {
      "text/plain": [
       "240    0.851226\n",
       "123    0.899425\n",
       "310    0.829168\n",
       "227    0.880611\n",
       "502    0.891563\n",
       "dtype: float64"
      ]
     },
     "execution_count": 106,
     "metadata": {},
     "output_type": "execute_result"
    }
   ],
   "source": [
    "y_test_pred=res.predict(X_test_sm)\n",
    "y_test_pred.head()"
   ]
  },
  {
   "cell_type": "code",
   "execution_count": 107,
   "id": "7e67c721",
   "metadata": {},
   "outputs": [],
   "source": [
    "y_test_pred=y_test_pred.values.reshape(-1)"
   ]
  },
  {
   "cell_type": "code",
   "execution_count": 108,
   "id": "d9941f08",
   "metadata": {},
   "outputs": [],
   "source": [
    "# Converting y_pred to a dataframe which is an array\n",
    "y_pred_final = pd.DataFrame({'Status':y_test.values,'Status_prob':y_test_pred})\n",
    "y_pred_final['Prospect ID'] = y_test.index"
   ]
  },
  {
   "cell_type": "code",
   "execution_count": 109,
   "id": "55b864cf",
   "metadata": {},
   "outputs": [
    {
     "data": {
      "text/html": [
       "<div>\n",
       "<style scoped>\n",
       "    .dataframe tbody tr th:only-of-type {\n",
       "        vertical-align: middle;\n",
       "    }\n",
       "\n",
       "    .dataframe tbody tr th {\n",
       "        vertical-align: top;\n",
       "    }\n",
       "\n",
       "    .dataframe thead th {\n",
       "        text-align: right;\n",
       "    }\n",
       "</style>\n",
       "<table border=\"1\" class=\"dataframe\">\n",
       "  <thead>\n",
       "    <tr style=\"text-align: right;\">\n",
       "      <th></th>\n",
       "      <th>Status</th>\n",
       "      <th>Status_prob</th>\n",
       "      <th>Prospect ID</th>\n",
       "    </tr>\n",
       "  </thead>\n",
       "  <tbody>\n",
       "    <tr>\n",
       "      <th>0</th>\n",
       "      <td>1</td>\n",
       "      <td>0.851226</td>\n",
       "      <td>240</td>\n",
       "    </tr>\n",
       "    <tr>\n",
       "      <th>1</th>\n",
       "      <td>1</td>\n",
       "      <td>0.899425</td>\n",
       "      <td>123</td>\n",
       "    </tr>\n",
       "    <tr>\n",
       "      <th>2</th>\n",
       "      <td>1</td>\n",
       "      <td>0.829168</td>\n",
       "      <td>310</td>\n",
       "    </tr>\n",
       "    <tr>\n",
       "      <th>3</th>\n",
       "      <td>1</td>\n",
       "      <td>0.880611</td>\n",
       "      <td>227</td>\n",
       "    </tr>\n",
       "    <tr>\n",
       "      <th>4</th>\n",
       "      <td>1</td>\n",
       "      <td>0.891563</td>\n",
       "      <td>502</td>\n",
       "    </tr>\n",
       "  </tbody>\n",
       "</table>\n",
       "</div>"
      ],
      "text/plain": [
       "   Status  Status_prob  Prospect ID\n",
       "0       1     0.851226          240\n",
       "1       1     0.899425          123\n",
       "2       1     0.829168          310\n",
       "3       1     0.880611          227\n",
       "4       1     0.891563          502"
      ]
     },
     "execution_count": 109,
     "metadata": {},
     "output_type": "execute_result"
    }
   ],
   "source": [
    "# Let's see the head of y_pred_final\n",
    "y_pred_final.head()"
   ]
  },
  {
   "cell_type": "code",
   "execution_count": 110,
   "id": "78af1541",
   "metadata": {},
   "outputs": [
    {
     "data": {
      "text/html": [
       "<div>\n",
       "<style scoped>\n",
       "    .dataframe tbody tr th:only-of-type {\n",
       "        vertical-align: middle;\n",
       "    }\n",
       "\n",
       "    .dataframe tbody tr th {\n",
       "        vertical-align: top;\n",
       "    }\n",
       "\n",
       "    .dataframe thead th {\n",
       "        text-align: right;\n",
       "    }\n",
       "</style>\n",
       "<table border=\"1\" class=\"dataframe\">\n",
       "  <thead>\n",
       "    <tr style=\"text-align: right;\">\n",
       "      <th></th>\n",
       "      <th>Status</th>\n",
       "      <th>Status_prob</th>\n",
       "      <th>Prospect ID</th>\n",
       "      <th>final_predicted</th>\n",
       "    </tr>\n",
       "  </thead>\n",
       "  <tbody>\n",
       "    <tr>\n",
       "      <th>0</th>\n",
       "      <td>1</td>\n",
       "      <td>0.851226</td>\n",
       "      <td>240</td>\n",
       "      <td>1</td>\n",
       "    </tr>\n",
       "    <tr>\n",
       "      <th>1</th>\n",
       "      <td>1</td>\n",
       "      <td>0.899425</td>\n",
       "      <td>123</td>\n",
       "      <td>1</td>\n",
       "    </tr>\n",
       "    <tr>\n",
       "      <th>2</th>\n",
       "      <td>1</td>\n",
       "      <td>0.829168</td>\n",
       "      <td>310</td>\n",
       "      <td>1</td>\n",
       "    </tr>\n",
       "    <tr>\n",
       "      <th>3</th>\n",
       "      <td>1</td>\n",
       "      <td>0.880611</td>\n",
       "      <td>227</td>\n",
       "      <td>1</td>\n",
       "    </tr>\n",
       "    <tr>\n",
       "      <th>4</th>\n",
       "      <td>1</td>\n",
       "      <td>0.891563</td>\n",
       "      <td>502</td>\n",
       "      <td>1</td>\n",
       "    </tr>\n",
       "  </tbody>\n",
       "</table>\n",
       "</div>"
      ],
      "text/plain": [
       "   Status  Status_prob  Prospect ID  final_predicted\n",
       "0       1     0.851226          240                1\n",
       "1       1     0.899425          123                1\n",
       "2       1     0.829168          310                1\n",
       "3       1     0.880611          227                1\n",
       "4       1     0.891563          502                1"
      ]
     },
     "execution_count": 110,
     "metadata": {},
     "output_type": "execute_result"
    }
   ],
   "source": [
    "y_pred_final['final_predicted'] = y_pred_final.Status_prob.map(lambda x: 1 if x > 0.3 else 0)\n",
    "y_pred_final.head()"
   ]
  },
  {
   "cell_type": "code",
   "execution_count": 111,
   "id": "59ef86cb",
   "metadata": {},
   "outputs": [
    {
     "data": {
      "text/plain": [
       "0.8165680473372781"
      ]
     },
     "execution_count": 111,
     "metadata": {},
     "output_type": "execute_result"
    }
   ],
   "source": [
    "metrics.accuracy_score(y_pred_final.Status, y_pred_final.final_predicted)"
   ]
  },
  {
   "cell_type": "code",
   "execution_count": 112,
   "id": "36d36e02",
   "metadata": {},
   "outputs": [
    {
     "data": {
      "text/plain": [
       "array([[ 22,  29],\n",
       "       [  2, 116]], dtype=int64)"
      ]
     },
     "execution_count": 112,
     "metadata": {},
     "output_type": "execute_result"
    }
   ],
   "source": [
    "confusion2 = metrics.confusion_matrix(y_pred_final.Status, y_pred_final.final_predicted )\n",
    "confusion2"
   ]
  },
  {
   "cell_type": "code",
   "execution_count": 113,
   "id": "2b2d37c4",
   "metadata": {},
   "outputs": [],
   "source": [
    "TP = confusion2[1,1] # true positive \n",
    "TN = confusion2[0,0] # true negatives\n",
    "FP = confusion2[0,1] # false positives\n",
    "FN = confusion2[1,0] # false negatives"
   ]
  },
  {
   "cell_type": "code",
   "execution_count": 114,
   "id": "3f80781f",
   "metadata": {},
   "outputs": [
    {
     "data": {
      "text/plain": [
       "0.9830508474576272"
      ]
     },
     "execution_count": 114,
     "metadata": {},
     "output_type": "execute_result"
    }
   ],
   "source": [
    "# Let's see the sensitivity of our logistic regression model\n",
    "TP / float(TP+FN)"
   ]
  },
  {
   "cell_type": "code",
   "execution_count": 115,
   "id": "a544a1ba",
   "metadata": {},
   "outputs": [
    {
     "data": {
      "text/plain": [
       "0.43137254901960786"
      ]
     },
     "execution_count": 115,
     "metadata": {},
     "output_type": "execute_result"
    }
   ],
   "source": [
    "# Let us calculate specificity\n",
    "TN / float(TN+FP)"
   ]
  },
  {
   "cell_type": "code",
   "execution_count": 116,
   "id": "ba180742",
   "metadata": {},
   "outputs": [
    {
     "data": {
      "text/plain": [
       "0.8"
      ]
     },
     "execution_count": 116,
     "metadata": {},
     "output_type": "execute_result"
    }
   ],
   "source": [
    "metrics.precision_score(y_pred_final.Status , y_pred_final.final_predicted)"
   ]
  },
  {
   "cell_type": "code",
   "execution_count": 117,
   "id": "9983624d",
   "metadata": {},
   "outputs": [
    {
     "data": {
      "text/plain": [
       "0.9830508474576272"
      ]
     },
     "execution_count": 117,
     "metadata": {},
     "output_type": "execute_result"
    }
   ],
   "source": [
    "metrics.recall_score(y_pred_final.Status, y_pred_final.final_predicted)"
   ]
  },
  {
   "cell_type": "markdown",
   "id": "f20d2cb5",
   "metadata": {},
   "source": [
    "### Comparing model accuracy on test set and train test "
   ]
  },
  {
   "cell_type": "markdown",
   "id": "f5fc7de6",
   "metadata": {},
   "source": [
    "### We find that two are nearly equal\n",
    "For train set  overall accuracy :81.97\n",
    "For test set overall accuracy   :81.65"
   ]
  },
  {
   "cell_type": "code",
   "execution_count": null,
   "id": "134412ac",
   "metadata": {},
   "outputs": [],
   "source": []
  }
 ],
 "metadata": {
  "kernelspec": {
   "display_name": "Python 3",
   "language": "python",
   "name": "python3"
  },
  "language_info": {
   "codemirror_mode": {
    "name": "ipython",
    "version": 3
   },
   "file_extension": ".py",
   "mimetype": "text/x-python",
   "name": "python",
   "nbconvert_exporter": "python",
   "pygments_lexer": "ipython3",
   "version": "3.8.8"
  }
 },
 "nbformat": 4,
 "nbformat_minor": 5
}
